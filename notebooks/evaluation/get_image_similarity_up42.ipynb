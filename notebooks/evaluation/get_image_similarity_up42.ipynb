{
  "cells": [
    {
      "cell_type": "markdown",
      "metadata": {
        "id": "pVKsZ-9W53_c"
      },
      "source": [
        "Notebook author: Elena Gronskaya"
      ]
    },
    {
      "cell_type": "markdown",
      "source": [
        "This notebook gets image similarity metrics between HR images (sentinel) and LR images (landsat and model predictions. It uses the Image Similarity Measures library from up42: https://github.com/up42/image-similarity-measures"
      ],
      "metadata": {
        "id": "_VeN64U3LLq6"
      }
    },
    {
      "cell_type": "code",
      "execution_count": null,
      "metadata": {
        "id": "-yctEPun5z5x"
      },
      "outputs": [],
      "source": [
        "from google.colab import drive\n",
        "drive.mount('/content/drive')"
      ]
    },
    {
      "cell_type": "code",
      "execution_count": null,
      "metadata": {
        "id": "ilqnJDG1CbyO"
      },
      "outputs": [],
      "source": [
        "!pip install image-similarity-measures\n",
        "!pip install image-similarity-measures[speedups]\n",
        "!pip install image-similarity-measures[rasterio]\n",
        "!pip install imagecodecs"
      ]
    },
    {
      "cell_type": "code",
      "source": [
        "import pandas as pd\n",
        "import numpy as np\n",
        "np.seterr(divide='ignore', invalid='ignore')\n",
        "import matplotlib.pyplot as plt\n",
        "import os\n",
        "import imageio\n",
        "import cv2"
      ],
      "metadata": {
        "id": "ZQ3IhngatoaL"
      },
      "execution_count": null,
      "outputs": []
    },
    {
      "cell_type": "code",
      "execution_count": null,
      "metadata": {
        "id": "8eT7gGJqCnKu"
      },
      "outputs": [],
      "source": [
        "import image_similarity_measures\n",
        "from image_similarity_measures.quality_metrics import fsim, issm, psnr, rmse, sam, sre, ssim, uiq\n",
        "\n",
        "'''\n",
        "Root mean square error (RMSE),\n",
        "Peak signal-to-noise ratio (PSNR),\n",
        "Structural Similarity Index (SSIM),\n",
        "Feature-based similarity index (FSIM),\n",
        "Information theoretic-based Statistic Similarity Measure (ISSM),\n",
        "Signal to reconstruction error ratio (SRE),\n",
        "Spectral angle mapper (SAM), and\n",
        "Universal image quality index (UIQ)\n",
        "(from https://github.com/up42/image-similarity-measures)\n",
        "'''"
      ]
    },
    {
      "cell_type": "code",
      "source": [
        "# Get  directories: \n",
        "# - path to save calculated metrics\n",
        "# - path to sentinel (high-resolution) images\n",
        "# - list of paths to landsat (baseline) or model predictions, paired with\n",
        "# dataset names: [[name, path],[name, path],[name, path]]\n",
        "# make sure to call landsat (low-resolution) dataset \"baseline\"\n",
        "\n",
        "metrics_dir = \"PATH WHERE METRICS DATA IS TO BE SAVED\"\n",
        "\n",
        "HR_directory = \"PATH TO HIGH RESOLUTION IMAGES\"\n",
        "\n",
        "LR_directories = [[\"DATASET/MODEL NAME\",\"PATH TO LOW RESOLUTION DIRECTORY 1\"],\n",
        "                  [\"DATASET/MODEL NAME\",\"PATH TO LOW RESOLUTION DIRECTORY 2\"],\n",
        "                  [\"ETC..\"]]\n",
        "\n",
        "for [model_name, LR_directories] in LR_directories:\n",
        "  \n",
        "  metrics_df = []\n",
        "\n",
        "  LR_files = sorted([f for f in os.listdir(LR_directories) if ('.png' in f or '.tif' in f)])\n",
        "  HR_files = sorted(os.listdir(HR_directory))\n",
        "\n",
        "  assert LR_files==HR_files\n",
        "\n",
        "  for idx, filename in enumerate(LR_files):\n",
        "\n",
        "    lr_img = imageio.imread(LR_directories+filename)\n",
        "    hr_img = imageio.imread(HR_directory+filename)\n",
        "\n",
        "    if model_name=='baseline':\n",
        "      dims = (265*3, 265*3)\n",
        "      lr_img = cv2.resize(lr_img.astype('float32'), dims, interpolation= cv2.INTER_CUBIC)    \n",
        "\n",
        "    try:\n",
        "      metrics_df.append({\n",
        "      'RMSE' : rmse(lr_img, hr_img),\n",
        "      'PSNR' : psnr(lr_img, hr_img),\n",
        "      'SSIM' : ssim(lr_img, hr_img),\n",
        "      'FSIM' : fsim(lr_img, hr_img),\n",
        "      'SRE' : sre(lr_img, hr_img),\n",
        "      'SAM' : sam(lr_img, hr_img)})\n",
        "    except Exception as e:\n",
        "      print(e)\n",
        "      pass\n",
        "\n",
        "  metrics_df = pd.DataFrame(metrics_df)\n",
        "  print('df created for '+model_name)\n",
        "  #csv name same as model run time (if not one value per set of weights, add a further extension)\n",
        "  metrics_df.to_csv(os.path.join(metrics_dir, (model_name+\".csv\")))"
      ],
      "metadata": {
        "id": "DGQv-AN0j6T9"
      },
      "execution_count": null,
      "outputs": []
    },
    {
      "cell_type": "code",
      "source": [
        "# iterate through list of dataframes, get mean values, create metrics meta_table\n",
        "\n",
        "metrics_files = [f for f in os.listdir(metrics_dir) if '.csv' in f]\n",
        "\n",
        "joint_metrics_df = pd.read_csv(metrics_dir+metrics_files[0],index_col=0).median()\n",
        "\n",
        "for f in metrics_files[1:]:\n",
        "  c_df = pd.read_csv(metrics_dir+f,index_col=0).median()\n",
        "  joint_metrics_df = pd.concat([joint_metrics_df, c_df], axis = 1)\n",
        "\n",
        "joint_metrics_df.columns = [f[:-4] for f in metrics_files]\n",
        "joint_metrics_df.T"
      ],
      "metadata": {
        "id": "fXVjfGr2mffY"
      },
      "execution_count": null,
      "outputs": []
    },
    {
      "cell_type": "code",
      "source": [
        "# Get summary metrics and plot\n",
        "\n",
        "metrics_files = [f for f in os.listdir(metrics_dir) if '.csv' in f]\n",
        "\n",
        "for file_name in metrics_files:\n",
        "\n",
        "  metrics_df = pd.read_csv(metrics_dir+file_name,index_col=0)\n",
        "  metrics_df = metrics_df.fillna(0)\n",
        "  metrics_df = metrics_df.replace(np.inf,0)\n",
        "\n",
        "  (RMSE, PSNR, SRE), (SSIM, FSIM, SAM) = metrics_df.hist(figsize=(10,10))\n",
        "\n",
        "  RMSE.axvline(metrics_df[\"RMSE\"].median(), color='orange', linestyle='dashed', linewidth=2)\n",
        "  PSNR.axvline(metrics_df[\"PSNR\"].median(), color='orange', linestyle='dashed', linewidth=2)\n",
        "  SRE.axvline(metrics_df[\"SRE\"].median(), color='orange', linestyle='dashed', linewidth=2)\n",
        "  SSIM.axvline(metrics_df[\"SSIM\"].median(), color='orange', linestyle='dashed', linewidth=2)\n",
        "  FSIM.axvline(metrics_df[\"FSIM\"].median(), color='orange', linestyle='dashed', linewidth=2)\n",
        "  SAM.axvline(metrics_df[\"SAM\"].median(), color='orange', linestyle='dashed', linewidth=2)\n",
        "\n",
        "  plt.savefig(os.path.join(metrics_dir, (file_name.split(\".\")[0]+\"medians.png\")))"
      ],
      "metadata": {
        "id": "PW2Br4EelNoH"
      },
      "execution_count": null,
      "outputs": []
    },
    {
      "cell_type": "code",
      "source": [
        "joint_metrics_df.loc['RMSE'].plot.bar()"
      ],
      "metadata": {
        "id": "zNtTHNj5pvty"
      },
      "execution_count": null,
      "outputs": []
    }
  ],
  "metadata": {
    "colab": {
      "collapsed_sections": [],
      "name": "get_image_similarity_up42.ipynb",
      "provenance": []
    },
    "kernelspec": {
      "display_name": "Python 3",
      "name": "python3"
    },
    "language_info": {
      "name": "python"
    }
  },
  "nbformat": 4,
  "nbformat_minor": 0
}