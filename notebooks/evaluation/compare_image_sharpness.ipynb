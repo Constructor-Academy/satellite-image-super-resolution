{
  "cells": [
    {
      "cell_type": "markdown",
      "metadata": {
        "id": "pVKsZ-9W53_c"
      },
      "source": [
        "Notebook author: Elena Gronskaya"
      ]
    },
    {
      "cell_type": "code",
      "execution_count": null,
      "metadata": {
        "id": "-yctEPun5z5x"
      },
      "outputs": [],
      "source": [
        "from google.colab import drive\n",
        "drive.mount('/content/drive')"
      ]
    },
    {
      "cell_type": "code",
      "source": [
        "!pip install imagecodecs\n",
        "!pip install cpbd\n",
        "!pip install scipy==1.1.0"
      ],
      "metadata": {
        "id": "GZTn3jFwlAzj"
      },
      "execution_count": null,
      "outputs": []
    },
    {
      "cell_type": "code",
      "source": [
        "import pandas as pd\n",
        "import numpy as np\n",
        "np.seterr(divide='ignore', invalid='ignore')\n",
        "import matplotlib.pyplot as plt\n",
        "import os\n",
        "import cv2\n",
        "import imageio\n",
        "import cpbd\n",
        "from scipy import ndimage"
      ],
      "metadata": {
        "id": "G0faKIPx1MNQ"
      },
      "execution_count": null,
      "outputs": []
    },
    {
      "cell_type": "code",
      "source": [
        "# get sharpness measure as average image gradient magnitude\n",
        "# see https://stackoverflow.com/questions/6646371/detect-which-image-is-sharper\n",
        "def get_sharpness(img, method='gnorm'):\n",
        "\n",
        "  img = cv2.cvtColor(img, cv2.COLOR_RGB2GRAY)\n",
        "  array = np.asarray(img, dtype=np.int32)\n",
        "\n",
        "  if method=='gnorm':\n",
        "    gy, gx = np.gradient(array)\n",
        "    gnorm = np.sqrt(gx**2 + gy**2)\n",
        "    sharpness = np.average(gnorm)\n",
        "  elif method=='dnorm':\n",
        "    dx = np.diff(array)[1:,:] # remove the first row\n",
        "    dy = np.diff(array, axis=0)[:,1:] # remove the first column\n",
        "    dnorm = np.sqrt(dx**2 + dy**2)\n",
        "    sharpness = np.average(dnorm)\n",
        "\n",
        "  return sharpness"
      ],
      "metadata": {
        "id": "3HU8BC5s-KZk"
      },
      "execution_count": null,
      "outputs": []
    },
    {
      "cell_type": "code",
      "execution_count": null,
      "metadata": {
        "id": "qegBfXowEjKL"
      },
      "outputs": [],
      "source": [
        "# Get  directories: \n",
        "# - path to save calculated metrics\n",
        "# list of paths to directories with images for which image sharpness metrics \n",
        "# are to be calculated: high-resolution, low-resolution, super-resolution \n",
        "# (model predictions), paired with dataset names: [[name, path],[name, path],..]\n",
        "# Note: make sure to call landsat (low-resolution) dataset \"baseline\"\n",
        "# baseline (landsat) images need to be upscaled to hig-res image size\n",
        "\n",
        "metrics_dir = \"PATH WHERE METRICS DATA IS TO BE SAVED\"\n",
        "\n",
        "# list of paths to directories with images for which image sharpness metrics \n",
        "# are to be calculated: high-resolution, low-resolution, super-resolution \n",
        "# (model predictions)\n",
        "directory = [[\"DATASET/MODEL NAME\",\"PATH TO LOW RESOLUTION DIRECTORY 1\"],\n",
        "             [\"DATASET/MODEL NAME\",\"PATH TO LOW RESOLUTION DIRECTORY 2\"],\n",
        "             [\"ETC..\"]]\n",
        "\n",
        "# Loop through, calculating the sharpness values and the cumulative probability \n",
        "# of blur detection (cpbd), putting in a DF\n",
        "# see https://pypi.org/project/cpbd/#description\n",
        "\n",
        "sh_df = {}\n",
        "cpbd_df = {}\n",
        "\n",
        "for [model_name, directory] in directory:\n",
        "\n",
        "  files = sorted([f for f in os.listdir(directory) if ('.png' in f or '.tif' in f)])\n",
        "\n",
        "  sh_list = []\n",
        "  cpbd_list = []\n",
        "\n",
        "  for filename in files:\n",
        "\n",
        "    img = imageio.imread(directory+filename)\n",
        "\n",
        "    if model_name=='baseline':\n",
        "      dims = (265*3, 265*3)\n",
        "      img = cv2.resize(img.astype('float32'), dims, interpolation= cv2.INTER_CUBIC)\n",
        "   \n",
        "    sh_idx = get_sharpness(img)\n",
        "    sh_list.append(sh_idx)\n",
        "\n",
        "    img = cv2.cvtColor(img, cv2.COLOR_RGB2GRAY)\n",
        "    img[img>255] = 255\n",
        "    cpbd_idx = cpbd.compute(img)\n",
        "    cpbd_list.append(cpbd_idx)\n",
        "\n",
        "  print('sharpness and cpbd calculated for '+ model_name)\n",
        "\n",
        "  sh_df[model_name] = sh_list\n",
        "  cpbd_df[model_name] = cpbd_list\n",
        "\n",
        "sh_df = pd.DataFrame(sh_df)\n",
        "sh_df.to_csv(os.path.join(metrics_dir, 'sh_df.csv')) \n",
        "cpbd_df = pd.DataFrame(cpbd_df)\n",
        "cpbd_df.to_csv(os.path.join(metrics_dir, 'cpbd_df.csv')) "
      ]
    },
    {
      "cell_type": "code",
      "source": [
        "import plotly.express as px\n",
        "\n",
        "sh_df = pd.read_csv(os.path.join(metrics_dir, 'sh_df.csv'), index_col = 0) \n",
        "mean_sh_df = sh_df.mean()\n",
        "fig = px.bar(mean_sh_df, color = mean_sh_df.index,\n",
        "             color_discrete_sequence=['#3366CC', '#DC3912', '#FF9900', '#FF9900', '#109618', '#109618', '#109618', '#990099', '#990099','#DD4477', '#DD4477'],\n",
        "             width=600, height=600, labels={\"value\": \"sharpness index\", \"index\": \"model\"}, error_y =sh_df.sem())\n",
        "fig.update_layout({'plot_bgcolor': 'rgba(0, 0, 0, 0)'},showlegend=False)\n",
        "fig.show()"
      ],
      "metadata": {
        "colab": {
          "base_uri": "https://localhost:8080/",
          "height": 617
        },
        "id": "Clxh-shCuWRE",
        "outputId": "23a769f6-a4d4-481f-bd31-1b18dc164ddb"
      },
      "execution_count": null,
      "outputs": [
        {
          "output_type": "display_data",
          "data": {
            "text/html": [
              "<html>\n",
              "<head><meta charset=\"utf-8\" /></head>\n",
              "<body>\n",
              "    <div>            <script src=\"https://cdnjs.cloudflare.com/ajax/libs/mathjax/2.7.5/MathJax.js?config=TeX-AMS-MML_SVG\"></script><script type=\"text/javascript\">if (window.MathJax) {MathJax.Hub.Config({SVG: {font: \"STIX-Web\"}});}</script>                <script type=\"text/javascript\">window.PlotlyConfig = {MathJaxConfig: 'local'};</script>\n",
              "        <script src=\"https://cdn.plot.ly/plotly-2.8.3.min.js\"></script>                <div id=\"d6c6c9da-1174-415c-8f06-3fb79f1bb34b\" class=\"plotly-graph-div\" style=\"height:600px; width:600px;\"></div>            <script type=\"text/javascript\">                                    window.PLOTLYENV=window.PLOTLYENV || {};                                    if (document.getElementById(\"d6c6c9da-1174-415c-8f06-3fb79f1bb34b\")) {                    Plotly.newPlot(                        \"d6c6c9da-1174-415c-8f06-3fb79f1bb34b\",                        [{\"alignmentgroup\":\"True\",\"error_y\":{\"array\":[0.3430395524545562]},\"hovertemplate\":\"model=%{x}<br>sharpness index=%{y}<extra></extra>\",\"legendgroup\":\"baseline_bicubic\",\"marker\":{\"color\":\"#3366CC\",\"pattern\":{\"shape\":\"\"}},\"name\":\"baseline_bicubic\",\"offsetgroup\":\"baseline_bicubic\",\"orientation\":\"v\",\"showlegend\":true,\"textposition\":\"auto\",\"x\":[\"baseline_bicubic\"],\"xaxis\":\"x\",\"y\":[5.580669588552748],\"yaxis\":\"y\",\"type\":\"bar\",\"textfont\":{\"size\":28},\"textangle\":0},{\"alignmentgroup\":\"True\",\"error_y\":{\"array\":[0.299456101160775]},\"hovertemplate\":\"model=%{x}<br>sharpness index=%{y}<extra></extra>\",\"legendgroup\":\"high_resolution\",\"marker\":{\"color\":\"#DC3912\",\"pattern\":{\"shape\":\"\"}},\"name\":\"high_resolution\",\"offsetgroup\":\"high_resolution\",\"orientation\":\"v\",\"showlegend\":true,\"textposition\":\"auto\",\"x\":[\"high_resolution\"],\"xaxis\":\"x\",\"y\":[6.35240164808171],\"yaxis\":\"y\",\"type\":\"bar\",\"textfont\":{\"size\":28},\"textangle\":0},{\"alignmentgroup\":\"True\",\"error_y\":{\"array\":[0.10101290838654936]},\"hovertemplate\":\"model=%{x}<br>sharpness index=%{y}<extra></extra>\",\"legendgroup\":\"rdn_small1_2123\",\"marker\":{\"color\":\"#FF9900\",\"pattern\":{\"shape\":\"\"}},\"name\":\"rdn_small1_2123\",\"offsetgroup\":\"rdn_small1_2123\",\"orientation\":\"v\",\"showlegend\":true,\"textposition\":\"auto\",\"x\":[\"rdn_small1_2123\"],\"xaxis\":\"x\",\"y\":[1.6129893857649642],\"yaxis\":\"y\",\"type\":\"bar\",\"textfont\":{\"size\":28},\"textangle\":0},{\"alignmentgroup\":\"True\",\"error_y\":{\"array\":[0.10078069377557303]},\"hovertemplate\":\"model=%{x}<br>sharpness index=%{y}<extra></extra>\",\"legendgroup\":\"rdn_large_2044\",\"marker\":{\"color\":\"#FF9900\",\"pattern\":{\"shape\":\"\"}},\"name\":\"rdn_large_2044\",\"offsetgroup\":\"rdn_large_2044\",\"orientation\":\"v\",\"showlegend\":true,\"textposition\":\"auto\",\"x\":[\"rdn_large_2044\"],\"xaxis\":\"x\",\"y\":[1.6328374888543358],\"yaxis\":\"y\",\"type\":\"bar\",\"textfont\":{\"size\":28},\"textangle\":0},{\"alignmentgroup\":\"True\",\"error_y\":{\"array\":[0.1475712817219072]},\"hovertemplate\":\"model=%{x}<br>sharpness index=%{y}<extra></extra>\",\"legendgroup\":\"rrdn_div2k_finetuned_ep270\",\"marker\":{\"color\":\"#109618\",\"pattern\":{\"shape\":\"\"}},\"name\":\"rrdn_div2k_finetuned_ep270\",\"offsetgroup\":\"rrdn_div2k_finetuned_ep270\",\"orientation\":\"v\",\"showlegend\":true,\"textposition\":\"auto\",\"x\":[\"rrdn_div2k_finetuned_ep270\"],\"xaxis\":\"x\",\"y\":[2.612228544773852],\"yaxis\":\"y\",\"type\":\"bar\",\"textfont\":{\"size\":28},\"textangle\":0},{\"alignmentgroup\":\"True\",\"error_y\":{\"array\":[0.2069282469361016]},\"hovertemplate\":\"model=%{x}<br>sharpness index=%{y}<extra></extra>\",\"legendgroup\":\"rrdn_l8s2pre_ep720\",\"marker\":{\"color\":\"#109618\",\"pattern\":{\"shape\":\"\"}},\"name\":\"rrdn_l8s2pre_ep720\",\"offsetgroup\":\"rrdn_l8s2pre_ep720\",\"orientation\":\"v\",\"showlegend\":true,\"textposition\":\"auto\",\"x\":[\"rrdn_l8s2pre_ep720\"],\"xaxis\":\"x\",\"y\":[5.14037073602289],\"yaxis\":\"y\",\"type\":\"bar\",\"textfont\":{\"size\":28},\"textangle\":0},{\"alignmentgroup\":\"True\",\"error_y\":{\"array\":[0.17716198890930948]},\"hovertemplate\":\"model=%{x}<br>sharpness index=%{y}<extra></extra>\",\"legendgroup\":\"rrdn_div2kl8s2_400ep\",\"marker\":{\"color\":\"#109618\",\"pattern\":{\"shape\":\"\"}},\"name\":\"rrdn_div2kl8s2_400ep\",\"offsetgroup\":\"rrdn_div2kl8s2_400ep\",\"orientation\":\"v\",\"showlegend\":true,\"textposition\":\"auto\",\"x\":[\"rrdn_div2kl8s2_400ep\"],\"xaxis\":\"x\",\"y\":[4.326808580574159],\"yaxis\":\"y\",\"type\":\"bar\",\"textfont\":{\"size\":28},\"textangle\":0},{\"alignmentgroup\":\"True\",\"error_y\":{\"array\":[0.12426110622645367]},\"hovertemplate\":\"model=%{x}<br>sharpness index=%{y}<extra></extra>\",\"legendgroup\":\"M2_EDSR_div2k\",\"marker\":{\"color\":\"#990099\",\"pattern\":{\"shape\":\"\"}},\"name\":\"M2_EDSR_div2k\",\"offsetgroup\":\"M2_EDSR_div2k\",\"orientation\":\"v\",\"showlegend\":true,\"textposition\":\"auto\",\"x\":[\"M2_EDSR_div2k\"],\"xaxis\":\"x\",\"y\":[2.787572202316684],\"yaxis\":\"y\",\"type\":\"bar\",\"textfont\":{\"size\":28},\"textangle\":0},{\"alignmentgroup\":\"True\",\"error_y\":{\"array\":[0.09282144655939048]},\"hovertemplate\":\"model=%{x}<br>sharpness index=%{y}<extra></extra>\",\"legendgroup\":\"M2_EDSR_l8_s2\",\"marker\":{\"color\":\"#990099\",\"pattern\":{\"shape\":\"\"}},\"name\":\"M2_EDSR_l8_s2\",\"offsetgroup\":\"M2_EDSR_l8_s2\",\"orientation\":\"v\",\"showlegend\":true,\"textposition\":\"auto\",\"x\":[\"M2_EDSR_l8_s2\"],\"xaxis\":\"x\",\"y\":[2.506435682839366],\"yaxis\":\"y\",\"type\":\"bar\",\"textfont\":{\"size\":28},\"textangle\":0},{\"alignmentgroup\":\"True\",\"error_y\":{\"array\":[0.20474401560967617]},\"hovertemplate\":\"model=%{x}<br>sharpness index=%{y}<extra></extra>\",\"legendgroup\":\"M2_SRGAN_div2k\",\"marker\":{\"color\":\"#DD4477\",\"pattern\":{\"shape\":\"\"}},\"name\":\"M2_SRGAN_div2k\",\"offsetgroup\":\"M2_SRGAN_div2k\",\"orientation\":\"v\",\"showlegend\":true,\"textposition\":\"auto\",\"x\":[\"M2_SRGAN_div2k\"],\"xaxis\":\"x\",\"y\":[5.813988491967705],\"yaxis\":\"y\",\"type\":\"bar\",\"textfont\":{\"size\":28},\"textangle\":0},{\"alignmentgroup\":\"True\",\"error_y\":{\"array\":[0.23112234123743672]},\"hovertemplate\":\"model=%{x}<br>sharpness index=%{y}<extra></extra>\",\"legendgroup\":\"M2_SRGAN_l8_s2\",\"marker\":{\"color\":\"#DD4477\",\"pattern\":{\"shape\":\"\"}},\"name\":\"M2_SRGAN_l8_s2\",\"offsetgroup\":\"M2_SRGAN_l8_s2\",\"orientation\":\"v\",\"showlegend\":true,\"textposition\":\"auto\",\"x\":[\"M2_SRGAN_l8_s2\"],\"xaxis\":\"x\",\"y\":[6.86190889887597],\"yaxis\":\"y\",\"type\":\"bar\",\"textfont\":{\"size\":28},\"textangle\":0}],                        {\"template\":{\"data\":{\"bar\":[{\"error_x\":{\"color\":\"#2a3f5f\"},\"error_y\":{\"color\":\"#2a3f5f\"},\"marker\":{\"line\":{\"color\":\"#E5ECF6\",\"width\":0.5},\"pattern\":{\"fillmode\":\"overlay\",\"size\":10,\"solidity\":0.2}},\"type\":\"bar\"}],\"barpolar\":[{\"marker\":{\"line\":{\"color\":\"#E5ECF6\",\"width\":0.5},\"pattern\":{\"fillmode\":\"overlay\",\"size\":10,\"solidity\":0.2}},\"type\":\"barpolar\"}],\"carpet\":[{\"aaxis\":{\"endlinecolor\":\"#2a3f5f\",\"gridcolor\":\"white\",\"linecolor\":\"white\",\"minorgridcolor\":\"white\",\"startlinecolor\":\"#2a3f5f\"},\"baxis\":{\"endlinecolor\":\"#2a3f5f\",\"gridcolor\":\"white\",\"linecolor\":\"white\",\"minorgridcolor\":\"white\",\"startlinecolor\":\"#2a3f5f\"},\"type\":\"carpet\"}],\"choropleth\":[{\"colorbar\":{\"outlinewidth\":0,\"ticks\":\"\"},\"type\":\"choropleth\"}],\"contour\":[{\"colorbar\":{\"outlinewidth\":0,\"ticks\":\"\"},\"colorscale\":[[0.0,\"#0d0887\"],[0.1111111111111111,\"#46039f\"],[0.2222222222222222,\"#7201a8\"],[0.3333333333333333,\"#9c179e\"],[0.4444444444444444,\"#bd3786\"],[0.5555555555555556,\"#d8576b\"],[0.6666666666666666,\"#ed7953\"],[0.7777777777777778,\"#fb9f3a\"],[0.8888888888888888,\"#fdca26\"],[1.0,\"#f0f921\"]],\"type\":\"contour\"}],\"contourcarpet\":[{\"colorbar\":{\"outlinewidth\":0,\"ticks\":\"\"},\"type\":\"contourcarpet\"}],\"heatmap\":[{\"colorbar\":{\"outlinewidth\":0,\"ticks\":\"\"},\"colorscale\":[[0.0,\"#0d0887\"],[0.1111111111111111,\"#46039f\"],[0.2222222222222222,\"#7201a8\"],[0.3333333333333333,\"#9c179e\"],[0.4444444444444444,\"#bd3786\"],[0.5555555555555556,\"#d8576b\"],[0.6666666666666666,\"#ed7953\"],[0.7777777777777778,\"#fb9f3a\"],[0.8888888888888888,\"#fdca26\"],[1.0,\"#f0f921\"]],\"type\":\"heatmap\"}],\"heatmapgl\":[{\"colorbar\":{\"outlinewidth\":0,\"ticks\":\"\"},\"colorscale\":[[0.0,\"#0d0887\"],[0.1111111111111111,\"#46039f\"],[0.2222222222222222,\"#7201a8\"],[0.3333333333333333,\"#9c179e\"],[0.4444444444444444,\"#bd3786\"],[0.5555555555555556,\"#d8576b\"],[0.6666666666666666,\"#ed7953\"],[0.7777777777777778,\"#fb9f3a\"],[0.8888888888888888,\"#fdca26\"],[1.0,\"#f0f921\"]],\"type\":\"heatmapgl\"}],\"histogram\":[{\"marker\":{\"pattern\":{\"fillmode\":\"overlay\",\"size\":10,\"solidity\":0.2}},\"type\":\"histogram\"}],\"histogram2d\":[{\"colorbar\":{\"outlinewidth\":0,\"ticks\":\"\"},\"colorscale\":[[0.0,\"#0d0887\"],[0.1111111111111111,\"#46039f\"],[0.2222222222222222,\"#7201a8\"],[0.3333333333333333,\"#9c179e\"],[0.4444444444444444,\"#bd3786\"],[0.5555555555555556,\"#d8576b\"],[0.6666666666666666,\"#ed7953\"],[0.7777777777777778,\"#fb9f3a\"],[0.8888888888888888,\"#fdca26\"],[1.0,\"#f0f921\"]],\"type\":\"histogram2d\"}],\"histogram2dcontour\":[{\"colorbar\":{\"outlinewidth\":0,\"ticks\":\"\"},\"colorscale\":[[0.0,\"#0d0887\"],[0.1111111111111111,\"#46039f\"],[0.2222222222222222,\"#7201a8\"],[0.3333333333333333,\"#9c179e\"],[0.4444444444444444,\"#bd3786\"],[0.5555555555555556,\"#d8576b\"],[0.6666666666666666,\"#ed7953\"],[0.7777777777777778,\"#fb9f3a\"],[0.8888888888888888,\"#fdca26\"],[1.0,\"#f0f921\"]],\"type\":\"histogram2dcontour\"}],\"mesh3d\":[{\"colorbar\":{\"outlinewidth\":0,\"ticks\":\"\"},\"type\":\"mesh3d\"}],\"parcoords\":[{\"line\":{\"colorbar\":{\"outlinewidth\":0,\"ticks\":\"\"}},\"type\":\"parcoords\"}],\"pie\":[{\"automargin\":true,\"type\":\"pie\"}],\"scatter\":[{\"marker\":{\"colorbar\":{\"outlinewidth\":0,\"ticks\":\"\"}},\"type\":\"scatter\"}],\"scatter3d\":[{\"line\":{\"colorbar\":{\"outlinewidth\":0,\"ticks\":\"\"}},\"marker\":{\"colorbar\":{\"outlinewidth\":0,\"ticks\":\"\"}},\"type\":\"scatter3d\"}],\"scattercarpet\":[{\"marker\":{\"colorbar\":{\"outlinewidth\":0,\"ticks\":\"\"}},\"type\":\"scattercarpet\"}],\"scattergeo\":[{\"marker\":{\"colorbar\":{\"outlinewidth\":0,\"ticks\":\"\"}},\"type\":\"scattergeo\"}],\"scattergl\":[{\"marker\":{\"colorbar\":{\"outlinewidth\":0,\"ticks\":\"\"}},\"type\":\"scattergl\"}],\"scattermapbox\":[{\"marker\":{\"colorbar\":{\"outlinewidth\":0,\"ticks\":\"\"}},\"type\":\"scattermapbox\"}],\"scatterpolar\":[{\"marker\":{\"colorbar\":{\"outlinewidth\":0,\"ticks\":\"\"}},\"type\":\"scatterpolar\"}],\"scatterpolargl\":[{\"marker\":{\"colorbar\":{\"outlinewidth\":0,\"ticks\":\"\"}},\"type\":\"scatterpolargl\"}],\"scatterternary\":[{\"marker\":{\"colorbar\":{\"outlinewidth\":0,\"ticks\":\"\"}},\"type\":\"scatterternary\"}],\"surface\":[{\"colorbar\":{\"outlinewidth\":0,\"ticks\":\"\"},\"colorscale\":[[0.0,\"#0d0887\"],[0.1111111111111111,\"#46039f\"],[0.2222222222222222,\"#7201a8\"],[0.3333333333333333,\"#9c179e\"],[0.4444444444444444,\"#bd3786\"],[0.5555555555555556,\"#d8576b\"],[0.6666666666666666,\"#ed7953\"],[0.7777777777777778,\"#fb9f3a\"],[0.8888888888888888,\"#fdca26\"],[1.0,\"#f0f921\"]],\"type\":\"surface\"}],\"table\":[{\"cells\":{\"fill\":{\"color\":\"#EBF0F8\"},\"line\":{\"color\":\"white\"}},\"header\":{\"fill\":{\"color\":\"#C8D4E3\"},\"line\":{\"color\":\"white\"}},\"type\":\"table\"}]},\"layout\":{\"annotationdefaults\":{\"arrowcolor\":\"#2a3f5f\",\"arrowhead\":0,\"arrowwidth\":1},\"autotypenumbers\":\"strict\",\"coloraxis\":{\"colorbar\":{\"outlinewidth\":0,\"ticks\":\"\"}},\"colorscale\":{\"diverging\":[[0,\"#8e0152\"],[0.1,\"#c51b7d\"],[0.2,\"#de77ae\"],[0.3,\"#f1b6da\"],[0.4,\"#fde0ef\"],[0.5,\"#f7f7f7\"],[0.6,\"#e6f5d0\"],[0.7,\"#b8e186\"],[0.8,\"#7fbc41\"],[0.9,\"#4d9221\"],[1,\"#276419\"]],\"sequential\":[[0.0,\"#0d0887\"],[0.1111111111111111,\"#46039f\"],[0.2222222222222222,\"#7201a8\"],[0.3333333333333333,\"#9c179e\"],[0.4444444444444444,\"#bd3786\"],[0.5555555555555556,\"#d8576b\"],[0.6666666666666666,\"#ed7953\"],[0.7777777777777778,\"#fb9f3a\"],[0.8888888888888888,\"#fdca26\"],[1.0,\"#f0f921\"]],\"sequentialminus\":[[0.0,\"#0d0887\"],[0.1111111111111111,\"#46039f\"],[0.2222222222222222,\"#7201a8\"],[0.3333333333333333,\"#9c179e\"],[0.4444444444444444,\"#bd3786\"],[0.5555555555555556,\"#d8576b\"],[0.6666666666666666,\"#ed7953\"],[0.7777777777777778,\"#fb9f3a\"],[0.8888888888888888,\"#fdca26\"],[1.0,\"#f0f921\"]]},\"colorway\":[\"#636efa\",\"#EF553B\",\"#00cc96\",\"#ab63fa\",\"#FFA15A\",\"#19d3f3\",\"#FF6692\",\"#B6E880\",\"#FF97FF\",\"#FECB52\"],\"font\":{\"color\":\"#2a3f5f\"},\"geo\":{\"bgcolor\":\"white\",\"lakecolor\":\"white\",\"landcolor\":\"#E5ECF6\",\"showlakes\":true,\"showland\":true,\"subunitcolor\":\"white\"},\"hoverlabel\":{\"align\":\"left\"},\"hovermode\":\"closest\",\"mapbox\":{\"style\":\"light\"},\"paper_bgcolor\":\"white\",\"plot_bgcolor\":\"#E5ECF6\",\"polar\":{\"angularaxis\":{\"gridcolor\":\"white\",\"linecolor\":\"white\",\"ticks\":\"\"},\"bgcolor\":\"#E5ECF6\",\"radialaxis\":{\"gridcolor\":\"white\",\"linecolor\":\"white\",\"ticks\":\"\"}},\"scene\":{\"xaxis\":{\"backgroundcolor\":\"#E5ECF6\",\"gridcolor\":\"white\",\"gridwidth\":2,\"linecolor\":\"white\",\"showbackground\":true,\"ticks\":\"\",\"zerolinecolor\":\"white\"},\"yaxis\":{\"backgroundcolor\":\"#E5ECF6\",\"gridcolor\":\"white\",\"gridwidth\":2,\"linecolor\":\"white\",\"showbackground\":true,\"ticks\":\"\",\"zerolinecolor\":\"white\"},\"zaxis\":{\"backgroundcolor\":\"#E5ECF6\",\"gridcolor\":\"white\",\"gridwidth\":2,\"linecolor\":\"white\",\"showbackground\":true,\"ticks\":\"\",\"zerolinecolor\":\"white\"}},\"shapedefaults\":{\"line\":{\"color\":\"#2a3f5f\"}},\"ternary\":{\"aaxis\":{\"gridcolor\":\"white\",\"linecolor\":\"white\",\"ticks\":\"\"},\"baxis\":{\"gridcolor\":\"white\",\"linecolor\":\"white\",\"ticks\":\"\"},\"bgcolor\":\"#E5ECF6\",\"caxis\":{\"gridcolor\":\"white\",\"linecolor\":\"white\",\"ticks\":\"\"}},\"title\":{\"x\":0.05},\"xaxis\":{\"automargin\":true,\"gridcolor\":\"white\",\"linecolor\":\"white\",\"ticks\":\"\",\"title\":{\"standoff\":15},\"zerolinecolor\":\"white\",\"zerolinewidth\":2},\"yaxis\":{\"automargin\":true,\"gridcolor\":\"white\",\"linecolor\":\"white\",\"ticks\":\"\",\"title\":{\"standoff\":15},\"zerolinecolor\":\"white\",\"zerolinewidth\":2}}},\"xaxis\":{\"anchor\":\"y\",\"domain\":[0.0,1.0],\"title\":{\"text\":\"model\"},\"categoryorder\":\"array\",\"categoryarray\":[\"baseline_bicubic\",\"high_resolution\",\"rdn_small1_2123\",\"rdn_large_2044\",\"rrdn_div2k_finetuned_ep270\",\"rrdn_l8s2pre_ep720\",\"rrdn_div2kl8s2_400ep\",\"M2_EDSR_div2k\",\"M2_EDSR_l8_s2\",\"M2_SRGAN_div2k\",\"M2_SRGAN_l8_s2\"]},\"yaxis\":{\"anchor\":\"x\",\"domain\":[0.0,1.0],\"title\":{\"text\":\"sharpness index\"}},\"legend\":{\"title\":{\"text\":\"model\"},\"tracegroupgap\":0},\"margin\":{\"t\":60},\"barmode\":\"relative\",\"height\":600,\"width\":600,\"plot_bgcolor\":\"rgba(0, 0, 0, 0)\",\"showlegend\":false},                        {\"responsive\": true}                    ).then(function(){\n",
              "                            \n",
              "var gd = document.getElementById('d6c6c9da-1174-415c-8f06-3fb79f1bb34b');\n",
              "var x = new MutationObserver(function (mutations, observer) {{\n",
              "        var display = window.getComputedStyle(gd).display;\n",
              "        if (!display || display === 'none') {{\n",
              "            console.log([gd, 'removed!']);\n",
              "            Plotly.purge(gd);\n",
              "            observer.disconnect();\n",
              "        }}\n",
              "}});\n",
              "\n",
              "// Listen for the removal of the full notebook cells\n",
              "var notebookContainer = gd.closest('#notebook-container');\n",
              "if (notebookContainer) {{\n",
              "    x.observe(notebookContainer, {childList: true});\n",
              "}}\n",
              "\n",
              "// Listen for the clearing of the current output cell\n",
              "var outputEl = gd.closest('.output');\n",
              "if (outputEl) {{\n",
              "    x.observe(outputEl, {childList: true});\n",
              "}}\n",
              "\n",
              "                        })                };                            </script>        </div>\n",
              "</body>\n",
              "</html>"
            ]
          },
          "metadata": {}
        }
      ]
    }
  ],
  "metadata": {
    "colab": {
      "collapsed_sections": [],
      "name": "compare_image_sharpness.ipynb",
      "provenance": []
    },
    "kernelspec": {
      "display_name": "Python 3",
      "name": "python3"
    },
    "language_info": {
      "name": "python"
    }
  },
  "nbformat": 4,
  "nbformat_minor": 0
}