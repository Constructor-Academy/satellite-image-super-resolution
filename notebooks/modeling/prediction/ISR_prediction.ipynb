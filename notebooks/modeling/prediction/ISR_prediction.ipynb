{
  "nbformat": 4,
  "nbformat_minor": 0,
  "metadata": {
    "colab": {
      "name": "ISR_prediction.ipynb",
      "provenance": [],
      "collapsed_sections": [],
      "machine_shape": "hm"
    },
    "kernelspec": {
      "name": "python3",
      "display_name": "Python 3"
    },
    "language_info": {
      "name": "python"
    }
  },
  "cells": [
    {
      "cell_type": "markdown",
      "source": [
        "Adapted by Elena Gronskaya and Özgün Haznedar from ISR_Prediction_Tutorial.ipynb: https://github.com/idealo/image-super-resolution/tree/master/notebooks"
      ],
      "metadata": {
        "id": "1FQkbTWMp3BL"
      }
    },
    {
      "cell_type": "markdown",
      "source": [
        "The purpose of this notebook is to create super-resolution images from a set of low-resolution images using a pre-trained ISR network. "
      ],
      "metadata": {
        "id": "aK_jY2GFp27M"
      }
    },
    {
      "cell_type": "markdown",
      "source": [
        "# Install ISR"
      ],
      "metadata": {
        "id": "NANJnBwd6RNX"
      }
    },
    {
      "cell_type": "code",
      "execution_count": null,
      "metadata": {
        "id": "ZEFfJc3S2Hqf"
      },
      "outputs": [],
      "source": [
        "from google.colab import drive\n",
        "drive.mount('/content/drive')"
      ]
    },
    {
      "cell_type": "code",
      "source": [
        "%cd /content/drive/MyDrive/image-super-resolution\n",
        "!python setup.py install\n",
        "# if using local repo of ISR\n",
        "# else use !pip install ISR and see ISR_module_adjustments notebook for changes\n",
        "# to run locally\n",
        "#!pip install gast>=0.3.2\n",
        "#!pip install ISR"
      ],
      "metadata": {
        "id": "TBoA42Kw6wAa"
      },
      "execution_count": null,
      "outputs": []
    },
    {
      "cell_type": "code",
      "source": [
        "# restart runtime after running\n",
        "!pip install 'h5py==2.10.0' --force-reinstall\n",
        "!pip install -U PyYAML"
      ],
      "metadata": {
        "id": "HEcp13n7EoY3"
      },
      "execution_count": null,
      "outputs": []
    },
    {
      "cell_type": "markdown",
      "source": [
        "# Predict"
      ],
      "metadata": {
        "id": "Ix-SoK9O6XlK"
      }
    },
    {
      "cell_type": "code",
      "source": [
        "import h5py\n",
        "from ISR.models import RDN, RRDN\n",
        "import ISR.utils.metrics\n",
        "from ISR.predict import Predictor\n",
        "import matplotlib\n",
        "import matplotlib.pyplot as plt \n",
        "import imageio"
      ],
      "metadata": {
        "id": "EORZpTbFxmvY"
      },
      "execution_count": null,
      "outputs": []
    },
    {
      "cell_type": "code",
      "source": [
        "#models :\n",
        "# RDN(arch_params={'C': 6, 'D':20, 'G':64, 'G0':64, 'x':3}) \n",
        "# RDN(arch_params={'C': 3, 'D':10, 'G':64, 'G0':64, 'x':3}) \n",
        "\n",
        "# DEFINE THE MODEL\n",
        "rdn = RDN(arch_params={'C': 6, 'D':20, 'G':64, 'G0':64, 'x':3})\n",
        "rrdn = RRDN(arch_params={'C': 4, 'D':3, 'G':64, 'G0':64, 'T':10, 'x':3}) \n",
        "\n",
        "# DEFINE THE PATH FOR THE WEIGHT\n",
        "weight = \"PATH TO WEIGHTS HDF5 FILE\""
      ],
      "metadata": {
        "id": "HKR5vgcO4wKN"
      },
      "execution_count": null,
      "outputs": []
    },
    {
      "cell_type": "code",
      "source": [
        "# A single-image prediction\n",
        "rrdn.model.load_weights(weight)\n",
        "lr_img = \"PATH TO SAMPLE LOW-RES IMAGE\"\n",
        "lr_arr = imageio.imread(lr_img)\n",
        "sr_img = rrdn.predict(lr_arr)\n",
        "plt.imshow(sr_img)"
      ],
      "metadata": {
        "id": "pRFjODI4_Aub"
      },
      "execution_count": null,
      "outputs": []
    },
    {
      "cell_type": "code",
      "source": [
        "# Run predictions for an entire low-resolution dataset\n",
        "input_dir = \"PATH TO LOW-RESOLUTION IMAGE DATASET\"\n",
        "output_dir = \"PATH FOR SR IMAGE OUTPUT\"\n",
        "\n",
        "predictor = Predictor(input_dir=input_dir, output_dir=output_dir)\n",
        "predictor.get_predictions(model=rrdn, weights_path=weight)"
      ],
      "metadata": {
        "id": "oiDB2apNci7f"
      },
      "execution_count": null,
      "outputs": []
    },
    {
      "cell_type": "code",
      "source": [
        "# Run predictions from a list of models\n",
        "\n",
        "rrdn = RRDN(arch_params={'C': 4, 'D':3, 'G':64, 'G0':64, 'T':10, 'x':3}) \n",
        "\n",
        "weight_dir_list = [\"PATH TO WEIGHTS HDF5 FILE 1\",\n",
        "                   \"PATH TO WEIGHTS HDF5 FILE 2\"]\n",
        "\n",
        "input_dir = \"PATH TO LOW-RESOLUTION IMAGE DATASET\"\n",
        "output_dir = \"PATH FOR SR IMAGE OUTPUT\"\n",
        "\n",
        "for weight in weight_dir_list:\n",
        "  rrdn.model.load_weights(weight)\n",
        "  predictor = Predictor(input_dir=input_dir, output_dir=output_dir)\n",
        "  predictor.get_predictions(model=rrdn, weights_path=weight)\n"
      ],
      "metadata": {
        "id": "NF8yAw79YAM2"
      },
      "execution_count": null,
      "outputs": []
    }
  ]
}