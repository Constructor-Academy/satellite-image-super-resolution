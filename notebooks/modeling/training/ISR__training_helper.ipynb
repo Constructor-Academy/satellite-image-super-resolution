{
  "nbformat": 4,
  "nbformat_minor": 0,
  "metadata": {
    "colab": {
      "name": "ISR _training_helper.ipynb",
      "provenance": [],
      "collapsed_sections": []
    },
    "kernelspec": {
      "name": "python3",
      "display_name": "Python 3"
    },
    "language_info": {
      "name": "python"
    }
  },
  "cells": [
    {
      "cell_type": "markdown",
      "source": [
        "Notebook author: Elena Gronskaya"
      ],
      "metadata": {
        "id": "yo6h3VGjmN9R"
      }
    },
    {
      "cell_type": "markdown",
      "source": [
        "The purpose of the notebook is to automatically clean up the Google Drive Trash (permanently delete contents) to prevent space shortage during training, as well as to rename the logs/weight files from datetime to hyperparameters tested, to facilitate viewing in TensorBoard. "
      ],
      "metadata": {
        "id": "UpKsnIESmNyh"
      }
    },
    {
      "cell_type": "code",
      "execution_count": null,
      "metadata": {
        "colab": {
          "base_uri": "https://localhost:8080/"
        },
        "id": "ArTyp66XRhwG",
        "outputId": "7ea2c1a8-f442-45e1-e2ac-84c317b6fa95"
      },
      "outputs": [
        {
          "output_type": "stream",
          "name": "stdout",
          "text": [
            "Drive already mounted at /content/drive; to attempt to forcibly remount, call drive.mount(\"/content/drive\", force_remount=True).\n"
          ]
        }
      ],
      "source": [
        "from google.colab import drive\n",
        "drive.mount('/content/drive')\n",
        "\n",
        "from pydrive.auth import GoogleAuth\n",
        "from pydrive.drive import GoogleDrive\n",
        "from google.colab import auth\n",
        "from oauth2client.client import GoogleCredentials\n",
        "\n",
        "auth.authenticate_user()\n",
        "gauth = GoogleAuth()\n",
        "gauth.credentials = GoogleCredentials.get_application_default()\n",
        "my_drive = GoogleDrive(gauth)"
      ]
    },
    {
      "cell_type": "code",
      "source": [
        "# clean up Trash automatically\n",
        "import time\n",
        "\n",
        "while True:\n",
        "  for a_file in my_drive.ListFile({'q': \"trashed = true\"}).GetList():\n",
        "    # print the name of the file being deleted.\n",
        "    # print(f\"the file {a_file['title']}, is about to get deleted permanently.\")\n",
        "    # delete the file permanently.\n",
        "    a_file.Delete()\n",
        "  time.sleep(120)"
      ],
      "metadata": {
        "id": "HtY6nTbZSmAF"
      },
      "execution_count": null,
      "outputs": []
    },
    {
      "cell_type": "markdown",
      "source": [
        "Rename weights/logs according to hyperparams tested"
      ],
      "metadata": {
        "id": "1qD5fa6BGusj"
      }
    },
    {
      "cell_type": "code",
      "source": [
        "NAMES = {\n",
        "    \"2022-04-23_2128\": {\"patch_size\": 20, \"batch_size\": 2, \"lr\": 0.0004},\n",
        "    \"2022-04-23_2209\": {\"patch_size\": 20, \"batch_size\": 2, \"lr\": 0.00004},\n",
        "    \"2022-04-23_2251\": {\"patch_size\": 20, \"batch_size\": 2, \"lr\": 0.000004},\n",
        "    \"2022-04-23_2332\": {\"patch_size\": 20, \"batch_size\": 4, \"lr\": 0.0004},\n",
        "    \"2022-04-23_2357\": {\"patch_size\": 20, \"batch_size\": 4, \"lr\": 0.00004},\n",
        "    \"2022-04-24_0023\": {\"patch_size\": 20, \"batch_size\": 4, \"lr\": 0.000004},\n",
        "    \"2022-04-24_0049\": {\"patch_size\": 20, \"batch_size\": 8, \"lr\": 0.0004},\n",
        "    \"2022-04-24_0108\": {\"patch_size\": 20, \"batch_size\": 8, \"lr\": 0.00004},\n",
        "    \"2022-04-24_0127\": {\"patch_size\": 20, \"batch_size\": 8, \"lr\": 0.000004},\n",
        "    \"2022-04-24_0147\": {\"patch_size\": 40, \"batch_size\": 2, \"lr\": 0.0004},\n",
        "    \"2022-04-24_0239\": {\"patch_size\": 40, \"batch_size\": 2, \"lr\": 0.00004},\n",
        "    \"2022-04-24_0333\": {\"patch_size\": 40, \"batch_size\": 2, \"lr\": 0.000004},\n",
        "    \"2022-04-24_0428\": {\"patch_size\": 40, \"batch_size\": 4, \"lr\": 0.0004},\n",
        "    \"2022-04-24_0506\": {\"patch_size\": 40, \"batch_size\": 4, \"lr\": 0.00004},\n",
        "    \"2022-04-24_0545\": {\"patch_size\": 40, \"batch_size\": 4, \"lr\": 0.000004},\n",
        "    \"2022-04-24_0625\": {\"patch_size\": 40, \"batch_size\": 8, \"lr\": 0.0004},\n",
        "    \"2022-04-24_0701\": {\"patch_size\": 40, \"batch_size\": 8, \"lr\": 0.00004},\n",
        "    \"2022-04-24_0737\": {\"patch_size\": 40, \"batch_size\": 8, \"lr\": 0.000004},\n",
        "    \"2022-04-24_0813\": {\"patch_size\": 60, \"batch_size\": 2, \"lr\": 0.0004},\n",
        "    \"2022-04-24_0925\": {\"patch_size\": 60, \"batch_size\": 2, \"lr\": 0.00004},\n",
        "    \"2022-04-24_1038\": {\"patch_size\": 60, \"batch_size\": 2, \"lr\": 0.000004},\n",
        "    \"2022-04-24_1151\": {\"patch_size\": 60, \"batch_size\": 4, \"lr\": 0.0004},\n",
        "    \"2022-04-24_1250\": {\"patch_size\": 60, \"batch_size\": 4, \"lr\": 0.00004},\n",
        "    \"2022-04-24_1350\": {\"patch_size\": 60, \"batch_size\": 4, \"lr\": 0.000004},\n",
        "    \"2022-04-24_1450\": {\"patch_size\": 60, \"batch_size\": 8, \"lr\": 0.0004},\n",
        "    \"2022-04-24_1457\": {\"patch_size\": 60, \"batch_size\": 8, \"lr\": 0.00004},\n",
        "    \"2022-04-24_1502\": {\"patch_size\": 60, \"batch_size\": 8, \"lr\": 0.000004},\n",
        "    \"2022-04-24_1514\": {\"patch_size\": 80, \"batch_size\": 2, \"lr\": 0.0004},\n",
        "}"
      ],
      "metadata": {
        "id": "RYfmHACbQ-t_"
      },
      "execution_count": null,
      "outputs": []
    },
    {
      "cell_type": "code",
      "source": [
        "from pathlib import Path\n",
        "import shutil"
      ],
      "metadata": {
        "id": "QTt8tGMeRES2"
      },
      "execution_count": null,
      "outputs": []
    },
    {
      "cell_type": "code",
      "source": [
        "# Uncomment shutil below to run renaming\n",
        "p = Path(\"PATH TO WEIGHTS .../rrdn-C4-D3-G64-G064-T10-x3\")\n",
        "for child in p.iterdir(): \n",
        "  if child.is_dir():\n",
        "    name = child.name\n",
        "    if not name in NAMES:\n",
        "      print(f\"skipping {name}, not in dict\")\n",
        "      continue\n",
        "\n",
        "    ps = NAMES[name][\"patch_size\"]\n",
        "    bs = NAMES[name][\"batch_size\"]\n",
        "    lr = NAMES[name][\"lr\"]\n",
        "\n",
        "    to_path = p / f\"{name}--ps{ps}-bs{bs}-lr{lr:.0e}\"\n",
        "    print(f\"{str(child)} -> {str(to_path)}\")\n",
        "    # shutil.move(str(child), str(to_path))"
      ],
      "metadata": {
        "id": "q-GPdmwuRRbW"
      },
      "execution_count": null,
      "outputs": []
    },
    {
      "cell_type": "code",
      "source": [
        "# Uncomment shutil below to run renaming\n",
        "p = Path(\"PATH TO LOGS .../rrdn-C4-D3-G64-G064-T10-x3\")\n",
        "for child in p.iterdir(): \n",
        "  if child.is_dir():\n",
        "    name = child.name\n",
        "    if not name in NAMES:\n",
        "      print(f\"skipping {name}, not in dict\")\n",
        "      continue\n",
        "\n",
        "    ps = NAMES[name][\"patch_size\"]\n",
        "    bs = NAMES[name][\"batch_size\"]\n",
        "    lr = NAMES[name][\"lr\"]\n",
        "\n",
        "    to_path = p / f\"ps{ps}-bs{bs}-lr{lr:.0e}\"\n",
        "    print(f\"{str(child)} -> {str(to_path)}\")\n",
        "    # shutil.move(str(child), str(to_path))"
      ],
      "metadata": {
        "id": "6M6rAVwORVTw"
      },
      "execution_count": null,
      "outputs": []
    }
  ]
}