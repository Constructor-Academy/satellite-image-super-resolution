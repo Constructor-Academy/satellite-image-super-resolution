{
  "nbformat": 4,
  "nbformat_minor": 0,
  "metadata": {
    "colab": {
      "name": "ISR_module_adjustments_PNG.ipynb",
      "provenance": [],
      "collapsed_sections": []
    },
    "kernelspec": {
      "name": "python3",
      "display_name": "Python 3"
    },
    "language_info": {
      "name": "python"
    }
  },
  "cells": [
    {
      "cell_type": "markdown",
      "source": [
        "Notebook authors: Özgün Haznedar, Elena Gronskaya"
      ],
      "metadata": {
        "id": "a8RS0LG9tkTv"
      }
    },
    {
      "cell_type": "markdown",
      "source": [
        "The purpose of this notebook is to adjust the functions of the original ISR repo to make them compatible for working with PNG satellite files sourced from Google Earth Engine and pre-processed with GDAL_transformer_PNG.ipynb.\n",
        "\n",
        "Usage: the cells in this notebook should be copied to the training/prediction notebooks and ran at the beginning (if ISR is imported through pip install). Alternatively, these changes can be applied to a local ISR repo."
      ],
      "metadata": {
        "id": "7coF-RVt33l4"
      }
    },
    {
      "cell_type": "code",
      "source": [
        "!pip install gast\"==0.3.2\"\n",
        "!pip install ISR\n",
        "!pip install 'h5py==2.10.0' --force-reinstall\n",
        "import ISR"
      ],
      "metadata": {
        "id": "Sqi60r9HuekA"
      },
      "execution_count": null,
      "outputs": []
    },
    {
      "cell_type": "code",
      "source": [
        "import ISR.utils.datahandler\n",
        "\n",
        "def datahandler_init(self, lr_dir, hr_dir, patch_size, scale, n_validation_samples=None):\n",
        "  self.folders = {'hr': hr_dir, 'lr': lr_dir}  # image folders\n",
        "  self.extensions = ('.png', '.jpeg', '.jpg', '.tif')  # admissible extension\n",
        "  self.img_list = {}  # list of file names\n",
        "  self.n_validation_samples = n_validation_samples\n",
        "  self.patch_size = patch_size\n",
        "  self.scale = scale\n",
        "  self.patch_size = {'lr': patch_size, 'hr': patch_size * self.scale}\n",
        "  self.logger = get_logger(__name__)\n",
        "  self._make_img_list()\n",
        "  self._check_dataset()\n",
        "\n",
        "ISR.utils.datahandler.DataHandler.__init__ = datahandler_init        "
      ],
      "metadata": {
        "id": "GggNW4Cf11L3"
      },
      "execution_count": null,
      "outputs": []
    },
    {
      "cell_type": "code",
      "source": [
        "import ISR.predict.predictor\n",
        "\n",
        "# fix for admissible extension\n",
        "def predictor_init(self, input_dir, output_dir='./data/output', verbose=True):\n",
        "\n",
        "  self.input_dir = Path(input_dir)\n",
        "  self.data_name = self.input_dir.name\n",
        "  self.output_dir = Path(output_dir) / self.data_name\n",
        "  self.logger = get_logger(__name__)\n",
        "  if not verbose:\n",
        "      self.logger.setLevel(40)\n",
        "  self.extensions = ('.jpeg', '.jpg', '.png', '.tif')  # file extensions that are admitted\n",
        "  self.img_ls = [f for f in self.input_dir.iterdir() if f.suffix in self.extensions]\n",
        "  if len(self.img_ls) < 1:\n",
        "      self.logger.error('No valid image files found (check config file).')\n",
        "      raise ValueError('No valid image files found (check config file).')\n",
        "  # Create results folder\n",
        "  if not self.output_dir.exists():\n",
        "      self.logger.info('Creating output directory:\\n{}'.format(self.output_dir))\n",
        "      self.output_dir.mkdir(parents=True)\n",
        "ISR.predict.predictor.Predictor.__init__ = predictor_init\n",
        "\n",
        "# fix for posix path error\n",
        "\n",
        "def _load_weights(self):\n",
        "    \"\"\" Invokes the model's load weights function if any weights are provided. \"\"\"\n",
        "    if self.weights_path is not None:\n",
        "        self.logger.info('Loaded weights from \\n > {}'.format(self.weights_path))\n",
        "        # loading by name automatically excludes the vgg layers\n",
        "        self.model.model.load_weights(str(self.weights_path))\n",
        "    else:\n",
        "        self.logger.error('Error: Weights path not specified (check config file).')\n",
        "        raise ValueError('Weights path not specified (check config file).')\n",
        "\n",
        "    session_config_path = self.weights_path.parent / 'session_config.yml'\n",
        "    if session_config_path.exists():\n",
        "        conf = yaml.load(session_config_path.read_text(), Loader=yaml.FullLoader)\n",
        "    else:\n",
        "        self.logger.warning('Could not find weights training configuration')\n",
        "        conf = {}\n",
        "    conf.update({'pre-trained-weights': self.weights_path.name})\n",
        "    return conf\n",
        "\n",
        "ISR.predict.predictor.Predictor._load_weights=_load_weights      "
      ],
      "metadata": {
        "id": "2t8EtUdK2Qqk"
      },
      "execution_count": null,
      "outputs": []
    },
    {
      "cell_type": "code",
      "source": [
        "import ISR.train.trainer\n",
        "\n",
        "# fix for posix path error\n",
        "def _load_weights(self):\n",
        "    \"\"\"\n",
        "    Loads the pretrained weights from the given path, if any is provided.\n",
        "    If a discriminator is defined, does the same.\n",
        "    \"\"\"\n",
        "    \n",
        "    if self.weights_generator:\n",
        "        self.model.get_layer('generator').load_weights(str(self.weights_generator))\n",
        "    \n",
        "    if self.discriminator:\n",
        "        if self.weights_discriminator:\n",
        "            self.model.get_layer('discriminator').load_weights(str(self.weights_discriminator))\n",
        "            self.discriminator.model.load_weights(str(self.weights_discriminator))\n",
        "\n",
        "ISR.train.trainer.Trainer._load_weights=_load_weights  "
      ],
      "metadata": {
        "id": "mxfDxOUDuKj3"
      },
      "execution_count": null,
      "outputs": []
    }
  ]
}