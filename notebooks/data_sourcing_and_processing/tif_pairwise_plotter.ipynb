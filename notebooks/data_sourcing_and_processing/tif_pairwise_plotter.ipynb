{
  "cells": [
    {
      "cell_type": "markdown",
      "metadata": {
        "id": "YzcxU271A9gy"
      },
      "source": [
        "Notebook authors: Özgün Haznedar, Elena Gronskaya"
      ]
    },
    {
      "cell_type": "markdown",
      "metadata": {},
      "source": [
        "This notebook is for plotting of high-resolution sentinel and low-resolution \n",
        "landsat image pairs that have been downloaded from Google Earth Engine as TIF \n",
        "files. Different scaling is applied to sentinel and landsat pixel values to \n",
        "equalize image brightness and adjust for the different data ranges of the \n",
        "original files. For non-filtered data, cloud and missing-data pixel filters can \n",
        "be applied to only plot high-quality images. "
      ]
    },
    {
      "cell_type": "code",
      "execution_count": null,
      "metadata": {
        "id": "Ju0opeIDA99V",
        "vscode": {
          "languageId": "python"
        }
      },
      "outputs": [],
      "source": [
        "import gdal\n",
        "gdal.UseExceptions()\n",
        "import matplotlib.pyplot as plt\n",
        "import numpy as np\n",
        "import os\n",
        "\n",
        "from google.colab import drive\n",
        "drive.mount('/content/drive')"
      ]
    },
    {
      "cell_type": "code",
      "execution_count": null,
      "metadata": {
        "id": "EtYU7X0YUMlA",
        "vscode": {
          "languageId": "python"
        }
      },
      "outputs": [],
      "source": [
        "# WRITE DIRECTORY NAME AND RUN THE NEXT CELL\n",
        "\n",
        "directory = 'PATH TO DATASET HERE'\n"
      ]
    },
    {
      "cell_type": "code",
      "execution_count": null,
      "metadata": {
        "id": "Rcgz_nsECiDY",
        "vscode": {
          "languageId": "python"
        }
      },
      "outputs": [],
      "source": [
        "\n",
        "# iterate over files in\n",
        "# that directory\n",
        "l8_list = list()\n",
        "s2_list = list()\n",
        "for filename in os.listdir(directory):\n",
        "    f = os.path.join(directory, filename)\n",
        "    # checking if it is a file\n",
        "    if os.path.isfile(f) and \"L8\" in f:\n",
        "      l8_list.append(f)\n",
        "    elif os.path.isfile(f) and \"S2\" in f:\n",
        "      s2_list.append(f)\n",
        "\n",
        "l8_list.sort()\n",
        "s2_list.sort()\n",
        "file_list = list(zip(l8_list,s2_list))\n",
        "\n",
        "#Function that converts downloaded files to RGB arrays and corrects exposure of images by scaling\n",
        "def img_array_RGB(filepath , model):  \n",
        "  geotiff = gdal.Open(filepath)\n",
        "  geotiff_arr = geotiff.ReadAsArray()\n",
        "  geotiff_arr = geotiff_arr.astype(int)\n",
        "  rgb_image = np.rollaxis(geotiff_arr,0,3)\n",
        "     \n",
        "  if model == \"sentinel\":\n",
        "    rgb_image = ((rgb_image *255/3558)*1.4).astype(int) # sentinel conversion , *1.4 is manual correction\n",
        "  elif model == \"landsat\" :\n",
        "    rgb_image = ((rgb_image*0.0000275-0.2)*255*4).astype(int) # landsat conversion original , *4 is manual correction\n",
        "    #rgb_image = ((rgb_image*0.0000275-0.2)*255).astype(int) # landsat conversion original\n",
        "\n",
        "  else:\n",
        "    print(\"NO MODEL SPECIFIED\")\n",
        "\n",
        "  return rgb_image\n",
        "\n",
        "\n",
        "image_RGBs = list()\n",
        "\n",
        "for landsat_file , sentinel_file in file_list:\n",
        "\n",
        "  landsat_rgb = img_array_RGB(landsat_file,\"landsat\")  \n",
        "  sentinel_rgb = img_array_RGB(sentinel_file,\"sentinel\") \n",
        "\n",
        "  # Thresholds for clouds and missing data\n",
        "\n",
        "  low_threshold = 0   \n",
        "  low_percentile = 5 \n",
        "  high_threshold = 200\n",
        "  high_percentile = 99\n",
        "\n",
        "  if np.percentile(landsat_rgb[:,0,0],low_percentile)> low_threshold and \\\n",
        "     np.percentile(landsat_rgb[0,:,0],low_percentile)> low_threshold and \\\n",
        "     np.percentile(landsat_rgb[0,0,:],low_percentile)> low_threshold and \\\n",
        "     np.percentile(sentinel_rgb[:,0,0],low_percentile)> low_threshold and \\\n",
        "     np.percentile(sentinel_rgb[0,:,0],low_percentile)> low_threshold and \\\n",
        "     np.percentile(sentinel_rgb[0,0,:],low_percentile)> low_threshold and \\\n",
        "     np.percentile(landsat_rgb[:,0,0],high_percentile)< high_threshold and \\\n",
        "     np.percentile(landsat_rgb[0,:,0],high_percentile)< high_threshold and \\\n",
        "     np.percentile(landsat_rgb[0,0,:],high_percentile)< high_threshold and \\\n",
        "     np.percentile(sentinel_rgb[:,0,0],high_percentile)< high_threshold and \\\n",
        "     np.percentile(sentinel_rgb[0,:,0],high_percentile)< high_threshold and \\\n",
        "     np.percentile(sentinel_rgb[0,0,:],high_percentile)< high_threshold:\n",
        "     filtered_image_RGBs.append([[landsat_rgb,landsat_file],[sentinel_rgb,sentinel_file]])  \n"
      ]
    },
    {
      "cell_type": "code",
      "execution_count": null,
      "metadata": {
        "id": "XYBFgus0jDWE",
        "vscode": {
          "languageId": "python"
        }
      },
      "outputs": [],
      "source": [
        "#Plot the images pairwise\n",
        "for idx , image in enumerate(image_RGBs):\n",
        "  fig, ax = plt.subplots(1,2,figsize=(20,20))\n",
        "\n",
        "  ax[0].imshow(image[0][0])\n",
        "  ax[0].set_title(f\"{idx} - {image[0][1][-44:]}\")\n",
        "  #ax[0].set_title(f\"Landsat -  90th percintile RGB values : {np.percentile(image[0][:,0,0],90)} ,{np.percentile(image[0][0,:,0],90)} , {np.percentile(image[0][0,0,:],90)}\")\n",
        "  print(idx)\n",
        "\n",
        "  ax[1].imshow(image[1][0])\n",
        "  ax[1].set_title(f\"{idx} - {image[1][1][-44:]}\")\n",
        "  #ax[1].set_title(f\"Sentinel -  90th percintile RGB values : {np.percentile(image[1][:,0,0],90)} ,{np.percentile(image[1][0,:,0],90)} , {np.percentile(image[1][0,0,:],90)}\")\n",
        "  \n",
        "  plt.show()\n",
        "  if idx==50:\n",
        "    break"
      ]
    }
  ],
  "metadata": {
    "colab": {
      "collapsed_sections": [],
      "machine_shape": "hm",
      "name": "tif_pairwise_plotter",
      "provenance": []
    },
    "kernelspec": {
      "display_name": "Python 3",
      "name": "python3"
    }
  },
  "nbformat": 4,
  "nbformat_minor": 0
}
