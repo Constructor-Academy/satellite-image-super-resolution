{
  "cells": [
    {
      "cell_type": "markdown",
      "source": [
        "Notebook author: Özgün Haznedar"
      ],
      "metadata": {
        "id": "V4h5NIs506Y4"
      }
    },
    {
      "cell_type": "markdown",
      "source": [
        " This notebook is used to resize and scale the landsat and sentinel TIF images downloaded from Google Earth Engine, plotting the results. The output is to be used by GDAL_transformer_PNG."
      ],
      "metadata": {
        "id": "AjDn_RVc3-84"
      }
    },
    {
      "cell_type": "code",
      "execution_count": null,
      "metadata": {
        "colab": {
          "base_uri": "https://localhost:8080/"
        },
        "id": "vTAjGUA-kqCf",
        "outputId": "9746683e-3f4a-425d-d198-14131bc7853f"
      },
      "outputs": [
        {
          "output_type": "stream",
          "name": "stdout",
          "text": [
            "Mounted at /content/drive\n"
          ]
        }
      ],
      "source": [
        "import gdal\n",
        "gdal.UseExceptions()\n",
        "import matplotlib.pyplot as plt\n",
        "import numpy as np\n",
        "import os\n",
        "\n",
        "from google.colab import drive\n",
        "drive.mount('/content/drive')"
      ]
    },
    {
      "cell_type": "code",
      "execution_count": null,
      "metadata": {
        "id": "o5XcdL4Q0pra"
      },
      "outputs": [],
      "source": [
        "# WRITE DATA DIRECTORY NAME\n",
        "dataset_directory = 'PATH TO FINAL DATASET'\n",
        "\n",
        "# DICTIONARY OF DATA SETS ( NAME : OUTPUT IMAGE SIZE)\n",
        "dataset_dict = {\"train_LR\":265 , \"val_LR\":265 , \"train_HR\":795 ,\"val_HR\":795 } \n",
        "\n",
        "# OUTPUT FOLDER NAME\n",
        "output_folder = \"processed_manual_strech\""
      ]
    },
    {
      "cell_type": "code",
      "execution_count": null,
      "metadata": {
        "id": "mo8jLtQaCFYZ"
      },
      "outputs": [],
      "source": [
        "for dataset , image_size in dataset_dict.items():\n",
        "\n",
        "  source_path = os.path.join(dataset_directory, dataset)\n",
        "\n",
        "  # iterate over files in\n",
        "  # that directory\n",
        "  file_dict = dict()\n",
        "  for filename in os.listdir(source_path):\n",
        "      f = os.path.join(source_path, filename)\n",
        "      # checking if it is a file\n",
        "      if os.path.isfile(f) and filename.split(\".\")[-1] == \"tif\":\n",
        "        file_dict[filename] = f\n",
        "\n",
        "\n",
        "  # create target folder\n",
        "  directory = output_folder+\"/\"+dataset\n",
        "  output_path = os.path.join(dataset_directory, directory)\n",
        "\n",
        "  os.makedirs(output_path)\n",
        "\n",
        "  # iterate over all the files for transformation\n",
        "  for file_name , file_path in file_dict.items():\n",
        "    img_src  = file_path\n",
        "    img_trg  = os.path.join(output_path, file_name) \n",
        "\n",
        "    gdal.Translate(img_trg, img_src, width=image_size, height=image_size)\n",
        "    \n"
      ]
    },
    {
      "cell_type": "code",
      "execution_count": null,
      "metadata": {
        "id": "eWvxa54hhyys"
      },
      "outputs": [],
      "source": [
        "output_paths = list()\n",
        "for dataset , image_size in dataset_dict.items():\n",
        "  directory = output_folder+\"/\"+dataset\n",
        "  output_path = os.path.join(dataset_directory, directory)  \n",
        "  output_paths.append(output_path)\n",
        "\n",
        "for folder in output_paths:\n",
        "  if \"LR\" in folder:\n",
        "    for filename in os.listdir(folder):\n",
        "      f = os.path.join(folder, filename)\n",
        "      \n",
        "      ds = gdal.Open(f, gdal.GA_Update)\n",
        "      data = ds.ReadAsArray()\n",
        "\n",
        "      lr_image = ((data*0.0000275-0.2)*255*4).astype(int) # landsat conversion original , *4 is manual correction\n",
        "      lr_image[lr_image>255] = 255\n",
        "      lr_image[lr_image<0] = 0\n",
        "\n",
        "      for band in range(3):\n",
        "          ds.GetRasterBand(band+1).WriteArray(lr_image[band, :, :]) \n",
        "      ds = None      \n",
        "\n",
        "  elif \"HR\" in folder:\n",
        "    for filename in os.listdir(folder):\n",
        "      f = os.path.join(folder, filename)\n",
        "      \n",
        "      ds = gdal.Open(f, gdal.GA_Update)\n",
        "      data = ds.ReadAsArray()\n",
        "\n",
        "      hr_image = (data*(255/3558)*1.4).astype(int) # sentinel conversion , *1.4 is manual correction      \n",
        "      hr_image[hr_image>255] = 255\n",
        "      hr_image[hr_image<0] = 0\n",
        "      \n",
        "      for band in range(3):\n",
        "          ds.GetRasterBand(band+1).WriteArray(hr_image[band, :, :]) \n",
        "      ds = None      \n"
      ]
    },
    {
      "cell_type": "code",
      "execution_count": null,
      "metadata": {
        "id": "iN1n3d0zIwm5"
      },
      "outputs": [],
      "source": [
        "# define the folders to be viewed\n",
        "output_paths = list()\n",
        "for dataset , image_size in dataset_dict.items():\n",
        "  directory = output_folder+\"/\"+dataset\n",
        "  output_path = os.path.join(dataset_directory, directory)  \n",
        "  output_paths.append(output_path)\n",
        "\n",
        "directory_LR = output_paths[1] #gets the val_LR folder\n",
        "directory_HR = output_paths[3] #gets the val_HR folder\n",
        "\n",
        "# iterate over files in\n",
        "# that directories\n",
        "file_dict = dict()\n",
        "for filename in os.listdir(directory_LR):\n",
        "    f_lr = os.path.join(directory_LR, filename)\n",
        "    f_hr = os.path.join(directory_HR, filename)\n",
        "    # checking if it is a file\n",
        "    if os.path.isfile(f_lr):\n",
        "      file_dict[f_lr] = f_hr\n",
        "\n",
        "for idx , (lr,hr) in enumerate(file_dict.items()):\n",
        "  lr = gdal.Open(lr)\n",
        "  lr = lr.ReadAsArray()\n",
        "  lr = np.rollaxis(lr,0,3)\n",
        "  hr = gdal.Open(hr)\n",
        "  hr = hr.ReadAsArray()\n",
        "  hr = np.rollaxis(hr,0,3)\n",
        "  fig, ax = plt.subplots(1,2,figsize=(15,15))\n",
        "  ax[0].imshow(lr)\n",
        "  ax[0].set_title(f\"landsat\")\n",
        "  ax[1].imshow(hr)\n",
        "  ax[1].set_title(f\"sentinel\")\n",
        "  plt.show()\n",
        "  \n"
      ]
    },
    {
      "cell_type": "markdown",
      "metadata": {
        "id": "pCvx79_jMZlH"
      },
      "source": [
        "NOTEBOOK FINISHED"
      ]
    }
  ],
  "metadata": {
    "colab": {
      "name": " GDAL_transformer_manual_strech.ipynb",
      "provenance": [],
      "collapsed_sections": []
    },
    "kernelspec": {
      "display_name": "Python 3",
      "name": "python3"
    },
    "language_info": {
      "name": "python"
    }
  },
  "nbformat": 4,
  "nbformat_minor": 0
}