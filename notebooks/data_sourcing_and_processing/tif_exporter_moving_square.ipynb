{
  "cells": [
    {
      "cell_type": "markdown",
      "metadata": {
        "id": "hMYgt9OiATbf"
      },
      "source": [
        "Notebook authors: Elena Gronskaya, Özgün Haznedar "
      ]
    },
    {
      "cell_type": "markdown",
      "metadata": {},
      "source": [
        "This notebook is used for:\n",
        "- connecting to Google Earth Engine and scanning a selected geographical area,\n",
        "downloading 80 km^2 images from two satellite sources (landsat-8, \n",
        "low-resolution and sentinel-2, high resolution) to Google Drive\n",
        "- prior to downloading, images with clouds and no-data pixels are discarded, and \n",
        "a temporal matching is done, so that only one image pair is downloaded per \n",
        "month, with a restriction that the images are within max_days_apart"
      ]
    },
    {
      "cell_type": "code",
      "execution_count": null,
      "metadata": {
        "id": "OCdNcz6EAKEn",
        "vscode": {
          "languageId": "python"
        }
      },
      "outputs": [],
      "source": [
        "# connect to Google Earth Engine python API\n",
        "\n",
        "import ee\n",
        "\n",
        "# Trigger the authentication flow.\n",
        "ee.Authenticate()\n",
        "\n",
        "# Initialize the library.\n",
        "ee.Initialize()"
      ]
    },
    {
      "cell_type": "code",
      "execution_count": null,
      "metadata": {
        "id": "sSBMt_NVKLxB",
        "vscode": {
          "languageId": "python"
        }
      },
      "outputs": [],
      "source": [
        "from google.colab import drive\n",
        "drive.mount('/content/drive')"
      ]
    },
    {
      "cell_type": "code",
      "execution_count": null,
      "metadata": {
        "id": "i0kHOdpGqb8p",
        "vscode": {
          "languageId": "python"
        }
      },
      "outputs": [],
      "source": [
        "# Shift center point by specified distance and get adjacent image with small overlap\n",
        "\n",
        "# Latitude: 1 deg = 110.574 km\n",
        "# Longitude: 1 deg = 111.320*cos(latitude) km\n",
        "\n",
        "import math\n",
        "\n",
        "def shift_center_point(lng, lat, dist=4000, shift_lng = True, shift_lat=True):\n",
        "\n",
        "  dist_to_shift = dist*1.95\n",
        "  lat_scale = 110.574*1000\n",
        "  lng_scale =  111.320*math.cos(lat)*1000\n",
        "\n",
        "  if shift_lat==True:\n",
        "    new_lat = round((lat + dist_to_shift/lat_scale),4)\n",
        "  else:\n",
        "    new_lat = lat\n",
        "\n",
        "  if shift_lng == True:  \n",
        "    new_lng = round((lng + dist_to_shift/lng_scale),4)\n",
        "  else:\n",
        "    new_lng = lng\n",
        "\n",
        "  return(new_lng, new_lat)"
      ]
    },
    {
      "cell_type": "code",
      "execution_count": null,
      "metadata": {
        "id": "TwrJwGelkzN0",
        "vscode": {
          "languageId": "python"
        }
      },
      "outputs": [],
      "source": [
        "# Alternative method of changing image location: shift center point in even divs steps between two locations\n",
        "\n",
        "import math\n",
        "\n",
        "def get_shift_amount(lng, lat, final_lng, final_lat, divs):\n",
        "  lat_to_shift = (final_lat - lat)/divs\n",
        "  lng_to_shift = (final_lng - lng)/divs\n",
        "\n",
        "  return(lng_to_shift,lat_to_shift)\n",
        "\n",
        "def shift_center_point_by_deg(lng, lat, lng_to_shift, lat_to_shift, dist=4000, shift_lng = True, shift_lat=True):\n",
        "\n",
        "  if shift_lat==True:\n",
        "    new_lat = round((lat + lat_to_shift),4)\n",
        "  else:\n",
        "    new_lat = lat\n",
        "\n",
        "  if shift_lng == True:  \n",
        "    new_lng = round((lng + lng_to_shift),4)\n",
        "  else:\n",
        "    new_lng = lng\n",
        "\n",
        "  return(new_lng, new_lat)"
      ]
    },
    {
      "cell_type": "code",
      "execution_count": null,
      "metadata": {
        "id": "t_IpLD-KeMJf",
        "vscode": {
          "languageId": "python"
        }
      },
      "outputs": [],
      "source": [
        "def tif_exporter(lon, lat, folder_name, meter_surrounding=4000, l8_cloud_threshold=5, s2_cloud_threshold=5, max_days_apart=7):\n",
        "\n",
        "  import numpy as np\n",
        "  import pandas as pd\n",
        "\n",
        "\n",
        "  # Define location (lon, lat center point)\n",
        "  poi = ee.Geometry.Point(lon, lat)\n",
        "\n",
        "  # Define a region of interest \n",
        "  roi = poi.buffer(meter_surrounding) # distance surroinding center point\n",
        "\n",
        "  scale_l8 = 30  # landsat scale in meters\n",
        "  scale_s2 = 10  # sentinel scale in meters\n",
        "\n",
        "  l8_path = \"LANDSAT/LC08/C02/T1_L2\"\n",
        "  s2_path = \"COPERNICUS/S2_SR\"\n",
        "\n",
        "  l8 = ee.ImageCollection(l8_path) \n",
        "  s2 = ee.ImageCollection(s2_path) \n",
        "\n",
        "  # Initial date of interest (inclusive).\n",
        "  i_date = '2017-01-01'\n",
        "\n",
        "  # Final date of interest (exclusive).\n",
        "  f_date = '2022-04-01' \n",
        "\n",
        "  # Selection of appropriate bands and dates for LST.\n",
        "  l8 = l8.select(\"SR_B4\",\"SR_B3\",\"SR_B2\").filterDate(i_date, f_date)\n",
        "  s2 = s2.select(\"B4\",\"B3\",\"B2\").filterDate(i_date, f_date)\n",
        "\n",
        "  # Get the data for the pixel intersecting the point in area.\n",
        "  l8_poi = l8.getRegion(poi, scale_l8).getInfo()\n",
        "  s2_poi = s2.getRegion(poi, scale_s2).getInfo()\n",
        "\n",
        "  def ee_array_to_df(arr, list_of_bands):\n",
        "    \"\"\"Transforms client-side ee.Image.getRegion array to pandas.DataFrame.\"\"\"\n",
        "    df = pd.DataFrame(arr)\n",
        "\n",
        "    # Rearrange the header.\n",
        "    headers = df.iloc[0]\n",
        "    df = pd.DataFrame(df.values[1:], columns=headers)\n",
        "\n",
        "    # Remove rows without data inside.\n",
        "    df = df.dropna()\n",
        "    \n",
        "    # Convert the data to numeric values.\n",
        "    for band in list_of_bands:\n",
        "      df[band] = pd.to_numeric(df[band], errors='coerce')\n",
        "\n",
        "    # Convert the time field into a datetime.\n",
        "    df[\"datetime\"] = pd.to_datetime(df[\"time\"], unit='ms')\n",
        "    df[\"day\"] = df[\"datetime\"].dt.date\n",
        "    df[\"month\"] = df[\"datetime\"].dt.to_period('M') \n",
        "    df[\"date\"] = df[\"datetime\"].dt.to_period('D') \n",
        "\n",
        "    return df\n",
        "\n",
        "  def l8_cloud_cover(row):\n",
        "    try :\n",
        "      return ee.Image(l8_path+\"/\"+row.id).get(\"CLOUD_COVER\").getInfo()\n",
        "    except:\n",
        "      return 100\n",
        "\n",
        "  def s2_cloudy_pixel_percentage(row):\n",
        "    try :\n",
        "      return ee.Image(s2_path+\"/\"+row.id).get(\"CLOUDY_PIXEL_PERCENTAGE\").getInfo()\n",
        "    except:\n",
        "      return 100\n",
        "\n",
        "  #dataframe for landsat images\n",
        "  l8_df = ee_array_to_df(l8_poi,[\"SR_B4\",\"SR_B3\",\"SR_B2\"])\n",
        "  l8_df[\"l8_cloud_cover\"] = l8_df.apply(l8_cloud_cover, axis=1)\n",
        "  l8_df = l8_df[l8_df.l8_cloud_cover < l8_cloud_threshold].reset_index()\n",
        "\n",
        "  # selecting no cloud image per month\n",
        "  l8_df.sort_values(by= [\"month\",\"l8_cloud_cover\"],inplace=True)\n",
        "  l8_df.drop_duplicates(subset=\"month\" , inplace=True)  #keeps first one with lower cloud score\n",
        "\n",
        "  #dataframe for sentinel2 images \n",
        "  s2_df = ee_array_to_df(s2_poi,[\"B4\",\"B3\",\"B2\"])\n",
        "  s2_df[\"s2_cloudy_pixel_percentage\"] = s2_df.apply(s2_cloudy_pixel_percentage, axis=1)\n",
        "  s2_df = s2_df[s2_df.s2_cloudy_pixel_percentage < s2_cloud_threshold].reset_index()\n",
        "\n",
        "  # selecting no cloud image per month\n",
        "  s2_df.sort_values(by= [\"month\",\"s2_cloudy_pixel_percentage\"],inplace=True)\n",
        "  s2_df.drop_duplicates(subset=\"month\" , inplace=True)  #keeps first one with lower cloud score\n",
        "\n",
        "  df = pd.merge(left=l8_df, right=s2_df, on=\"month\", suffixes=(\"_L8\", \"_S2\"))\n",
        "  df[\"time_difference\"] = abs(df.day_L8 - df.day_S2).apply(lambda row : row / np.timedelta64(1, 'D'))\n",
        "  df = df[df.time_difference<=max_days_apart] \n",
        "  df.sort_values(by= [\"month\",\"s2_cloudy_pixel_percentage\"],inplace=True)\n",
        "  df.drop_duplicates(subset=\"month\" , inplace=True)  #keeps first one with lower s2 cloud score\n",
        "  df=df.reset_index()\n",
        "\n",
        "  #Function that exports to drive\n",
        "  def exporter(img, source, scale, date):\n",
        "    task = ee.batch.Export.image.toDrive(image=img,\n",
        "                                        folder=folder_name,\n",
        "                                        scale=scale,\n",
        "                                        shardSize=256,\n",
        "                                        region=roi,\n",
        "                                        fileNamePrefix=str(int(abs(1000000*(lon*lat))))+\n",
        "                                         \"_\"+str(date)+\"_\"+source+\"_\"+str(lon)+\"_\"+str(lat))\n",
        "    task.start()\n",
        "\n",
        "  #Export the images to drive\n",
        "  for idx, month in enumerate(df.month):\n",
        "    landsat = df.id_L8[idx]\n",
        "    l8_img = ee.Image(l8_path+\"/\"+landsat)\n",
        "    l8_img = l8_img.select(\"SR_B4\",\"SR_B3\",\"SR_B2\")\n",
        "    exporter(l8_img, \"L8\", 30, df.date_L8[idx])\n",
        "\n",
        "    sentinel = df.id_S2[idx]\n",
        "    s2_img = ee.Image(s2_path+\"/\"+sentinel)\n",
        "    s2_img = s2_img.select(\"B4\",\"B3\",\"B2\")\n",
        "    exporter(s2_img, \"S2\", 10, df.date_S2[idx])\n"
      ]
    },
    {
      "cell_type": "markdown",
      "metadata": {
        "id": "u6C8u_1gpX4s"
      },
      "source": [
        "## Example usage below"
      ]
    },
    {
      "cell_type": "code",
      "execution_count": null,
      "metadata": {
        "id": "Eo4e5tswFapx",
        "vscode": {
          "languageId": "python"
        }
      },
      "outputs": [],
      "source": [
        "# for Honduras\n",
        "c_lat = 14.08\n",
        "c_lon = -87.26\n",
        "\n",
        "# moving North East in even steps\n",
        "\n",
        "for i in range(60):\n",
        "  tif_exporter(c_lon, c_lat, \"final_images_honduras\")\n",
        "  (c_lon, c_lat) = shift_center_point(c_lon, c_lat, dist=4000)\n"
      ]
    },
    {
      "cell_type": "code",
      "execution_count": null,
      "metadata": {
        "id": "IknBO5q6mYiM",
        "vscode": {
          "languageId": "python"
        }
      },
      "outputs": [],
      "source": [
        "# for Madagascar West Coast\n",
        "\n",
        "divs = 9 # calculated to be approx 80 km, as images are 80x80 km in size\n",
        "(lng_to_shift, lat_to_shift) = get_shift_amount(43.90, -24.38, 44.74, -18.29, divs=divs)\n",
        "(c_lon, c_lat) = (43.90, -24.38)\n",
        "\n",
        "# moving from a starting lat/long to a destination lat/long in even steps\n",
        "\n",
        "for i in range(divs):\n",
        "  tif_exporter(c_lon, c_lat, \"final_images_madagascar\")\n",
        "  (c_lon, c_lat) = shift_center_point_by_deg(c_lon, c_lat, lng_to_shift, lat_to_shift)"
      ]
    },
    {
      "cell_type": "code",
      "execution_count": null,
      "metadata": {
        "id": "VFwxJwKMIude",
        "vscode": {
          "languageId": "python"
        }
      },
      "outputs": [],
      "source": [
        "# for Madagascar East Coast\n",
        "(lng_to_shift, lat_to_shift) = get_shift_amount(46.85, -25.03, 50.08, -14.05, divs=16)\n",
        "(c_lon, c_lat) = (46.85, -25.03)\n",
        "for i in range(16):\n",
        "  tif_exporter(c_lon, c_lat, \"final_images_madagascar\")\n",
        "  (c_lon, c_lat) = shift_center_point_by_deg(c_lon, c_lat, lng_to_shift, lat_to_shift)"
      ]
    },
    {
      "cell_type": "code",
      "execution_count": null,
      "metadata": {
        "id": "oaTt8loLLqvs",
        "vscode": {
          "languageId": "python"
        }
      },
      "outputs": [],
      "source": [
        "# for California West Coast\n",
        "c_lat = 38.94\n",
        "c_lon = -123.62\n",
        "\n",
        "for i in range(13):\n",
        "  tif_exporter(c_lon, c_lat, \"final_images_california\")\n",
        "  (c_lon, c_lat) = shift_center_point(c_lon, c_lat, dist=4000)"
      ]
    },
    {
      "cell_type": "code",
      "execution_count": null,
      "metadata": {
        "id": "1RBDbbcSK8Nk",
        "vscode": {
          "languageId": "python"
        }
      },
      "outputs": [],
      "source": [
        "# for Angola and South DRC\n",
        "c_lat = -7.88\n",
        "c_lon = 13.19\n",
        "\n",
        "for i in range(23):\n",
        "  tif_exporter(c_lon, c_lat, \"final_images_angola_drc\")\n",
        "  (c_lon, c_lat) = shift_center_point(c_lon, c_lat, dist=4000, shift_lng = True, shift_lat=False)"
      ]
    },
    {
      "cell_type": "code",
      "execution_count": null,
      "metadata": {
        "id": "EcbTULYSrwkI",
        "vscode": {
          "languageId": "python"
        }
      },
      "outputs": [],
      "source": [
        "# for Angola and South DRC higher north\n",
        "c_lat = -7.42\n",
        "c_lon = 13.19\n",
        "\n",
        "for i in range(23):\n",
        "  tif_exporter(c_lon, c_lat, \"final_images_angola_drc\")\n",
        "  (c_lon, c_lat) = shift_center_point(c_lon, c_lat, dist=4000, shift_lng = True, shift_lat=False)"
      ]
    },
    {
      "cell_type": "code",
      "execution_count": null,
      "metadata": {
        "id": "i9qKNcv6OjRY",
        "vscode": {
          "languageId": "python"
        }
      },
      "outputs": [],
      "source": [
        "# for Angola and South DRC higher north\n",
        "c_lat = -5.92\n",
        "c_lon = 12.48\n",
        "\n",
        "for i in range(23):\n",
        "  tif_exporter(c_lon, c_lat, \"final_images_angola_drc3\")\n",
        "  (c_lon, c_lat) = shift_center_point(c_lon, c_lat, dist=4000, shift_lng = True, shift_lat=False)"
      ]
    },
    {
      "cell_type": "code",
      "execution_count": null,
      "metadata": {
        "id": "6vSbXzfxaBEH",
        "vscode": {
          "languageId": "python"
        }
      },
      "outputs": [],
      "source": [
        "# for DRC \n",
        "c_lat = -5.05\n",
        "c_lon = 12.14\n",
        "\n",
        "for i in range(23):\n",
        "  tif_exporter(c_lon, c_lat, \"final_images_drc\")\n",
        "  (c_lon, c_lat) = shift_center_point(c_lon, c_lat, dist=4000, shift_lng = True, shift_lat=False)"
      ]
    },
    {
      "cell_type": "code",
      "execution_count": null,
      "metadata": {
        "id": "BG_W-qIei5Og",
        "vscode": {
          "languageId": "python"
        }
      },
      "outputs": [],
      "source": [
        "# for Australia\n",
        "(lng_to_shift, lat_to_shift) = get_shift_amount(146.36, -38.78, 153.40, -28.35, divs=17)\n",
        "(c_lon, c_lat) = (146.36, -38.78)\n",
        "for i in range(17):\n",
        "  tif_exporter(c_lon, c_lat, \"final_images_australia\")\n",
        "  (c_lon, c_lat) = shift_center_point_by_deg(c_lon, c_lat, lng_to_shift, lat_to_shift)"
      ]
    },
    {
      "cell_type": "code",
      "execution_count": null,
      "metadata": {
        "id": "hxIEfDStkmpa",
        "vscode": {
          "languageId": "python"
        }
      },
      "outputs": [],
      "source": [
        "# for moving northeast across DRC, South Sudan, and Ethiopia\n",
        "c_lat = -7.09\n",
        "c_lon = 13.03\n",
        "for i in range(50):\n",
        "  tif_exporter(c_lon, c_lat, \"final_images_drc_ssudan_eth\")\n",
        "  (c_lon, c_lat) = shift_center_point(c_lon, c_lat, dist=4000)"
      ]
    },
    {
      "cell_type": "code",
      "execution_count": null,
      "metadata": {
        "id": "ZOjsHtgq8mhG",
        "vscode": {
          "languageId": "python"
        }
      },
      "outputs": [],
      "source": [
        "# for Portugal \n",
        "\n",
        "lng_range = [-8.13, -7.52]\n",
        "\n",
        "for l in lng_range:\n",
        "\n",
        "  c_lat = 39.26\n",
        "  c_lon = l\n",
        "\n",
        "  for i in range(6):\n",
        "    tif_exporter(c_lon, c_lat, \"final_images_portugal\")\n",
        "    (c_lon, c_lat) = shift_center_point(c_lon, c_lat, dist=4000, shift_lng = False, shift_lat=True)"
      ]
    }
  ],
  "metadata": {
    "colab": {
      "collapsed_sections": [],
      "machine_shape": "hm",
      "name": "tif_exporter_moving_square",
      "provenance": []
    },
    "kernelspec": {
      "display_name": "Python 3",
      "name": "python3"
    }
  },
  "nbformat": 4,
  "nbformat_minor": 0
}
