{
  "cells": [
    {
      "cell_type": "markdown",
      "metadata": {
        "id": "-mkT9HKxs4zO"
      },
      "source": [
        "Notebook author: Elena Gronskaya"
      ]
    },
    {
      "cell_type": "markdown",
      "metadata": {},
      "source": [
        "This notebook is used for renaming the image files sourced with \n",
        "tif_exporter_moving_square, so that each HR-LR image pair has a unique index."
      ]
    },
    {
      "cell_type": "code",
      "execution_count": null,
      "metadata": {
        "id": "ia-LQcDis5a8"
      },
      "outputs": [],
      "source": [
        "# import drive and files in google colaboratory\n",
        "from google.colab import drive\n",
        "from google.colab import files\n",
        "import os \n",
        "import numpy as np\n",
        "\n",
        "drive.mount('/content/drive')\n",
        "data_train_HR = \"PATH TO HR TRAINING DATA/\"\n",
        "data_train_LR = \"PATH TO LR TRAINING DATA/\"\n",
        "data_val_HR = \"PATH TO HR VALIDATION DATA/\"\n",
        "data_val_LR = \"PATH TO LR VALIDATION DATA/\" "
      ]
    },
    {
      "cell_type": "code",
      "execution_count": null,
      "metadata": {
        "id": "U7rLHVwIs7Rr"
      },
      "outputs": [],
      "source": [
        "# rename files in all directories to give each HR-LR image pair a unique index\n",
        "\n",
        "dir_list = [data_train_HR, data_train_LR, data_val_HR, data_val_LR]\n",
        "\n",
        "for d in dir_list:\n",
        "\n",
        "  file_list=np.array(os.listdir(d))\n",
        "\n",
        "  for filename in file_list: \n",
        "    root = (filename.split('_')[0]+'_'+filename.split('_')[1])\n",
        "    root = root.split('-')[0]+'-'+root.split('-')[1]+'.tif'\n",
        "    src = d + filename \n",
        "    dst = d + root \n",
        "    os.rename(src, dst) "
      ]
    },
    {
      "cell_type": "code",
      "execution_count": null,
      "metadata": {
        "id": "HDShtB0OXnOQ"
      },
      "outputs": [],
      "source": [
        "# check datasets match\n",
        "import numpy as np\n",
        "LR_name_root = [x.split('.')[0].rsplit('x', 1)[0] for x in np.sort(os.listdir(data_train_LR))]\n",
        "HR_name_root = [x.split('.')[0] for x in np.sort(os.listdir(data_train_HR))]\n",
        "np.all(HR_name_root == LR_name_root)"
      ]
    },
    {
      "cell_type": "code",
      "execution_count": null,
      "metadata": {
        "id": "PG7pMZh7YDpp"
      },
      "outputs": [],
      "source": [
        "# in case of mismatch, check which files are missing/different\n",
        "for i in range(len(LR_name_root)):\n",
        "  if HR_name_root[i] != LR_name_root[i]:\n",
        "    print(HR_name_root[i])\n",
        "    print(LR_name_root[i])"
      ]
    }
  ],
  "metadata": {
    "colab": {
      "collapsed_sections": [],
      "name": "final_dataset_rename_files.ipynb",
      "provenance": []
    },
    "kernelspec": {
      "display_name": "Python 3",
      "name": "python3"
    },
    "language_info": {
      "name": "python"
    }
  },
  "nbformat": 4,
  "nbformat_minor": 0
}
