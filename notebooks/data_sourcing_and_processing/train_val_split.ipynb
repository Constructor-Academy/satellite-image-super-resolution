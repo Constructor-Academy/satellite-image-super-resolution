{
  "cells": [
    {
      "cell_type": "markdown",
      "metadata": {
        "id": "iDs7cTUX4JJA"
      },
      "source": [
        "Notebook author: Özgün Haznedar"
      ]
    },
    {
      "cell_type": "markdown",
      "metadata": {},
      "source": [
        "This notebook is used for splitting the sourced image files into training and\n",
        "validation datasets."
      ]
    },
    {
      "cell_type": "code",
      "execution_count": null,
      "metadata": {
        "id": "owi9bUfk4KmJ"
      },
      "outputs": [],
      "source": [
        "from google.colab import drive\n",
        "drive.mount('/content/drive')"
      ]
    },
    {
      "cell_type": "code",
      "execution_count": null,
      "metadata": {
        "id": "2jD30iHHu-4x"
      },
      "outputs": [],
      "source": [
        "import os\n",
        "import shutil\n",
        "import random"
      ]
    },
    {
      "cell_type": "code",
      "execution_count": null,
      "metadata": {
        "id": "4YMWhMOkuke4"
      },
      "outputs": [],
      "source": [
        "# source directory of all the images\n",
        "directory = \"PATH TO DIRECTORY CONTAINING ALL IMAGES\""
      ]
    },
    {
      "cell_type": "code",
      "execution_count": null,
      "metadata": {
        "id": "qWudB-6su6mF"
      },
      "outputs": [],
      "source": [
        "# seperate HR and LR images into two lists\n",
        "l8_list = list()\n",
        "s2_list = list()\n",
        "for filename in os.listdir(directory):\n",
        "    f = os.path.join(directory, filename)\n",
        "    # checking if it is a file\n",
        "    if os.path.isfile(f) and \"L8\" in f:\n",
        "      l8_list.append(f)\n",
        "    elif os.path.isfile(f) and \"S2\" in f:\n",
        "      s2_list.append(f)"
      ]
    },
    {
      "cell_type": "code",
      "execution_count": null,
      "metadata": {
        "id": "XCh7RBlz9LVS"
      },
      "outputs": [],
      "source": [
        "# define the lists of train and validation images\n",
        "pair_count = len(l8_list)\n",
        "train_size = int(0.85 * pair_count)\n",
        "\n",
        "l8_list.sort()\n",
        "s2_list.sort()\n",
        "\n",
        "random.Random(4).shuffle(l8_list)\n",
        "random.Random(4).shuffle(s2_list)\n",
        "\n",
        "train_LR = l8_list[:train_size]\n",
        "train_HR = s2_list[:train_size]\n",
        "val_LR   = l8_list[train_size:]\n",
        "val_HR   = s2_list[train_size:]"
      ]
    },
    {
      "cell_type": "code",
      "execution_count": null,
      "metadata": {
        "id": "6-y15Hl-AVlq"
      },
      "outputs": [],
      "source": [
        "# check if the image orders are ok\n",
        "x = 45\n",
        "print(len(train_LR))\n",
        "print(len(train_HR))\n",
        "train_LR[x] , train_HR[x] "
      ]
    },
    {
      "cell_type": "code",
      "execution_count": null,
      "metadata": {
        "id": "Fc6WzgbxAbvX"
      },
      "outputs": [],
      "source": [
        "# check if the image orders are ok\n",
        "x = 55\n",
        "print(len(val_LR))\n",
        "print(len(val_HR))\n",
        "val_LR[x] , val_HR[x] "
      ]
    },
    {
      "cell_type": "code",
      "execution_count": null,
      "metadata": {
        "id": "6HFyXv2Tw0Hs"
      },
      "outputs": [],
      "source": [
        "#folders to be created\n",
        "folders = [\"train_LR\",\"train_HR\",\"val_LR\",\"val_HR\" ]\n",
        "\n",
        "parent_directory = \"PATH TO PARENT DIRECTORY FOR SPLIT DATA\"\n",
        "\n",
        "for folder in folders:\n",
        "  path = os.path.join(parent_directory, folder)\n",
        "  os.makedirs(path)"
      ]
    },
    {
      "cell_type": "code",
      "execution_count": null,
      "metadata": {
        "id": "RqznN0ZD7Rrm"
      },
      "outputs": [],
      "source": [
        "# moves each image in the lists to their corresponding folders\n",
        "\n",
        "folder_train_HR = \"PATH TO HR TRAINING DATA\"\n",
        "folder_train_LR = \"PATH TO LR TRAINING DATA\"\n",
        "folder_val_HR = \"PATH TO HR VALIDATION DATA\"\n",
        "folder_val_LR = \"PATH TO LR VALIDATION DATA\"\n",
        "\n",
        "# fetch all files\n",
        "for file_name in os.listdir(directory):\n",
        "  source = os.path.join(directory, file_name)\n",
        "  if source in train_LR:\n",
        "    # construct full file path\n",
        "    destination = os.path.join(folder_train_LR, file_name)\n",
        "    # move only files\n",
        "    if os.path.isfile(source):\n",
        "        shutil.move(source, destination)\n",
        "  elif source in train_HR:\n",
        "    # construct full file path\n",
        "    destination = os.path.join(folder_train_HR, file_name)\n",
        "    # move only files\n",
        "    if os.path.isfile(source):\n",
        "        shutil.move(source, destination)\n",
        "  elif source in val_HR:\n",
        "    # construct full file path\n",
        "    destination = os.path.join(folder_val_HR, file_name)\n",
        "    # move only files\n",
        "    if os.path.isfile(source):\n",
        "        shutil.move(source, destination)\n",
        "  elif source in val_LR:\n",
        "    # construct full file path\n",
        "    destination = os.path.join(folder_val_LR, file_name)\n",
        "    # move only files\n",
        "    if os.path.isfile(source):\n",
        "        shutil.move(source, destination)\n",
        "\n"
      ]
    }
  ],
  "metadata": {
    "colab": {
      "collapsed_sections": [],
      "machine_shape": "hm",
      "name": "train_val_split.ipynb",
      "provenance": []
    },
    "kernelspec": {
      "display_name": "Python 3",
      "name": "python3"
    },
    "language_info": {
      "name": "python"
    }
  },
  "nbformat": 4,
  "nbformat_minor": 0
}
